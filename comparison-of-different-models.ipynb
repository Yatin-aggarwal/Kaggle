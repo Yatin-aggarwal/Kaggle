{
 "cells": [
  {
   "cell_type": "code",
   "execution_count": 1,
   "id": "4bde1f94",
   "metadata": {
    "_cell_guid": "b1076dfc-b9ad-4769-8c92-a6c4dae69d19",
    "_uuid": "8f2839f25d086af736a60e9eeb907d3b93b6e0e5",
    "execution": {
     "iopub.execute_input": "2023-07-22T09:31:03.009206Z",
     "iopub.status.busy": "2023-07-22T09:31:03.008210Z",
     "iopub.status.idle": "2023-07-22T09:31:03.020262Z",
     "shell.execute_reply": "2023-07-22T09:31:03.019461Z"
    },
    "papermill": {
     "duration": 0.022359,
     "end_time": "2023-07-22T09:31:03.022812",
     "exception": false,
     "start_time": "2023-07-22T09:31:03.000453",
     "status": "completed"
    },
    "tags": []
   },
   "outputs": [
    {
     "name": "stdout",
     "output_type": "stream",
     "text": [
      "/kaggle/input/house-prices-advanced-regression-techniques/sample_submission.csv\n",
      "/kaggle/input/house-prices-advanced-regression-techniques/data_description.txt\n",
      "/kaggle/input/house-prices-advanced-regression-techniques/train.csv\n",
      "/kaggle/input/house-prices-advanced-regression-techniques/test.csv\n"
     ]
    }
   ],
   "source": [
    "# This Python 3 environment comes with many helpful analytics libraries installed\n",
    "# It is defined by the kaggle/python Docker image: https://github.com/kaggle/docker-python\n",
    "# For example, here's several helpful packages to load\n",
    "\n",
    "import numpy as np # linear algebra\n",
    "import pandas as pd # data processing, CSV file I/O (e.g. pd.read_csv)\n",
    "\n",
    "# Input data files are available in the read-only \"../input/\" directory\n",
    "# For example, running this (by clicking run or pressing Shift+Enter) will list all files under the input directory\n",
    "\n",
    "import os\n",
    "for dirname, _, filenames in os.walk('/kaggle/input'):\n",
    "    for filename in filenames:\n",
    "        print(os.path.join(dirname, filename))\n",
    "\n",
    "# You can write up to 20GB to the current directory (/kaggle/working/) that gets preserved as output when you create a version using \"Save & Run All\" \n",
    "# You can also write temporary files to /kaggle/temp/, but they won't be saved outside of the current session"
   ]
  },
  {
   "cell_type": "code",
   "execution_count": 2,
   "id": "3422a28b",
   "metadata": {
    "execution": {
     "iopub.execute_input": "2023-07-22T09:31:03.036984Z",
     "iopub.status.busy": "2023-07-22T09:31:03.036414Z",
     "iopub.status.idle": "2023-07-22T09:31:03.120137Z",
     "shell.execute_reply": "2023-07-22T09:31:03.119231Z"
    },
    "papermill": {
     "duration": 0.09352,
     "end_time": "2023-07-22T09:31:03.122543",
     "exception": false,
     "start_time": "2023-07-22T09:31:03.029023",
     "status": "completed"
    },
    "tags": []
   },
   "outputs": [],
   "source": [
    "train = pd.read_csv(\"/kaggle/input/house-prices-advanced-regression-techniques/train.csv\", index_col = 'Id')\n",
    "test = pd.read_csv(\"/kaggle/input/house-prices-advanced-regression-techniques/test.csv\", index_col = 'Id')"
   ]
  },
  {
   "cell_type": "code",
   "execution_count": 3,
   "id": "eb35c673",
   "metadata": {
    "execution": {
     "iopub.execute_input": "2023-07-22T09:31:03.136700Z",
     "iopub.status.busy": "2023-07-22T09:31:03.136094Z",
     "iopub.status.idle": "2023-07-22T09:31:03.141896Z",
     "shell.execute_reply": "2023-07-22T09:31:03.140739Z"
    },
    "papermill": {
     "duration": 0.015587,
     "end_time": "2023-07-22T09:31:03.144152",
     "exception": false,
     "start_time": "2023-07-22T09:31:03.128565",
     "status": "completed"
    },
    "tags": []
   },
   "outputs": [],
   "source": [
    "pred = train['SalePrice']"
   ]
  },
  {
   "cell_type": "code",
   "execution_count": 4,
   "id": "6a8739a9",
   "metadata": {
    "execution": {
     "iopub.execute_input": "2023-07-22T09:31:03.157892Z",
     "iopub.status.busy": "2023-07-22T09:31:03.157514Z",
     "iopub.status.idle": "2023-07-22T09:31:03.189505Z",
     "shell.execute_reply": "2023-07-22T09:31:03.188165Z"
    },
    "papermill": {
     "duration": 0.041458,
     "end_time": "2023-07-22T09:31:03.191696",
     "exception": false,
     "start_time": "2023-07-22T09:31:03.150238",
     "status": "completed"
    },
    "tags": []
   },
   "outputs": [
    {
     "name": "stdout",
     "output_type": "stream",
     "text": [
      "<class 'pandas.core.frame.DataFrame'>\n",
      "Int64Index: 1460 entries, 1 to 1460\n",
      "Data columns (total 80 columns):\n",
      " #   Column         Non-Null Count  Dtype  \n",
      "---  ------         --------------  -----  \n",
      " 0   MSSubClass     1460 non-null   int64  \n",
      " 1   MSZoning       1460 non-null   object \n",
      " 2   LotFrontage    1201 non-null   float64\n",
      " 3   LotArea        1460 non-null   int64  \n",
      " 4   Street         1460 non-null   object \n",
      " 5   Alley          91 non-null     object \n",
      " 6   LotShape       1460 non-null   object \n",
      " 7   LandContour    1460 non-null   object \n",
      " 8   Utilities      1460 non-null   object \n",
      " 9   LotConfig      1460 non-null   object \n",
      " 10  LandSlope      1460 non-null   object \n",
      " 11  Neighborhood   1460 non-null   object \n",
      " 12  Condition1     1460 non-null   object \n",
      " 13  Condition2     1460 non-null   object \n",
      " 14  BldgType       1460 non-null   object \n",
      " 15  HouseStyle     1460 non-null   object \n",
      " 16  OverallQual    1460 non-null   int64  \n",
      " 17  OverallCond    1460 non-null   int64  \n",
      " 18  YearBuilt      1460 non-null   int64  \n",
      " 19  YearRemodAdd   1460 non-null   int64  \n",
      " 20  RoofStyle      1460 non-null   object \n",
      " 21  RoofMatl       1460 non-null   object \n",
      " 22  Exterior1st    1460 non-null   object \n",
      " 23  Exterior2nd    1460 non-null   object \n",
      " 24  MasVnrType     1452 non-null   object \n",
      " 25  MasVnrArea     1452 non-null   float64\n",
      " 26  ExterQual      1460 non-null   object \n",
      " 27  ExterCond      1460 non-null   object \n",
      " 28  Foundation     1460 non-null   object \n",
      " 29  BsmtQual       1423 non-null   object \n",
      " 30  BsmtCond       1423 non-null   object \n",
      " 31  BsmtExposure   1422 non-null   object \n",
      " 32  BsmtFinType1   1423 non-null   object \n",
      " 33  BsmtFinSF1     1460 non-null   int64  \n",
      " 34  BsmtFinType2   1422 non-null   object \n",
      " 35  BsmtFinSF2     1460 non-null   int64  \n",
      " 36  BsmtUnfSF      1460 non-null   int64  \n",
      " 37  TotalBsmtSF    1460 non-null   int64  \n",
      " 38  Heating        1460 non-null   object \n",
      " 39  HeatingQC      1460 non-null   object \n",
      " 40  CentralAir     1460 non-null   object \n",
      " 41  Electrical     1459 non-null   object \n",
      " 42  1stFlrSF       1460 non-null   int64  \n",
      " 43  2ndFlrSF       1460 non-null   int64  \n",
      " 44  LowQualFinSF   1460 non-null   int64  \n",
      " 45  GrLivArea      1460 non-null   int64  \n",
      " 46  BsmtFullBath   1460 non-null   int64  \n",
      " 47  BsmtHalfBath   1460 non-null   int64  \n",
      " 48  FullBath       1460 non-null   int64  \n",
      " 49  HalfBath       1460 non-null   int64  \n",
      " 50  BedroomAbvGr   1460 non-null   int64  \n",
      " 51  KitchenAbvGr   1460 non-null   int64  \n",
      " 52  KitchenQual    1460 non-null   object \n",
      " 53  TotRmsAbvGrd   1460 non-null   int64  \n",
      " 54  Functional     1460 non-null   object \n",
      " 55  Fireplaces     1460 non-null   int64  \n",
      " 56  FireplaceQu    770 non-null    object \n",
      " 57  GarageType     1379 non-null   object \n",
      " 58  GarageYrBlt    1379 non-null   float64\n",
      " 59  GarageFinish   1379 non-null   object \n",
      " 60  GarageCars     1460 non-null   int64  \n",
      " 61  GarageArea     1460 non-null   int64  \n",
      " 62  GarageQual     1379 non-null   object \n",
      " 63  GarageCond     1379 non-null   object \n",
      " 64  PavedDrive     1460 non-null   object \n",
      " 65  WoodDeckSF     1460 non-null   int64  \n",
      " 66  OpenPorchSF    1460 non-null   int64  \n",
      " 67  EnclosedPorch  1460 non-null   int64  \n",
      " 68  3SsnPorch      1460 non-null   int64  \n",
      " 69  ScreenPorch    1460 non-null   int64  \n",
      " 70  PoolArea       1460 non-null   int64  \n",
      " 71  PoolQC         7 non-null      object \n",
      " 72  Fence          281 non-null    object \n",
      " 73  MiscFeature    54 non-null     object \n",
      " 74  MiscVal        1460 non-null   int64  \n",
      " 75  MoSold         1460 non-null   int64  \n",
      " 76  YrSold         1460 non-null   int64  \n",
      " 77  SaleType       1460 non-null   object \n",
      " 78  SaleCondition  1460 non-null   object \n",
      " 79  SalePrice      1460 non-null   int64  \n",
      "dtypes: float64(3), int64(34), object(43)\n",
      "memory usage: 923.9+ KB\n"
     ]
    }
   ],
   "source": [
    "train.info()"
   ]
  },
  {
   "cell_type": "code",
   "execution_count": 5,
   "id": "d2a79f5f",
   "metadata": {
    "execution": {
     "iopub.execute_input": "2023-07-22T09:31:03.206824Z",
     "iopub.status.busy": "2023-07-22T09:31:03.206438Z",
     "iopub.status.idle": "2023-07-22T09:31:03.232249Z",
     "shell.execute_reply": "2023-07-22T09:31:03.230891Z"
    },
    "papermill": {
     "duration": 0.037251,
     "end_time": "2023-07-22T09:31:03.235033",
     "exception": false,
     "start_time": "2023-07-22T09:31:03.197782",
     "status": "completed"
    },
    "tags": []
   },
   "outputs": [
    {
     "name": "stdout",
     "output_type": "stream",
     "text": [
      "<class 'pandas.core.frame.DataFrame'>\n",
      "Int64Index: 1459 entries, 1461 to 2919\n",
      "Data columns (total 79 columns):\n",
      " #   Column         Non-Null Count  Dtype  \n",
      "---  ------         --------------  -----  \n",
      " 0   MSSubClass     1459 non-null   int64  \n",
      " 1   MSZoning       1455 non-null   object \n",
      " 2   LotFrontage    1232 non-null   float64\n",
      " 3   LotArea        1459 non-null   int64  \n",
      " 4   Street         1459 non-null   object \n",
      " 5   Alley          107 non-null    object \n",
      " 6   LotShape       1459 non-null   object \n",
      " 7   LandContour    1459 non-null   object \n",
      " 8   Utilities      1457 non-null   object \n",
      " 9   LotConfig      1459 non-null   object \n",
      " 10  LandSlope      1459 non-null   object \n",
      " 11  Neighborhood   1459 non-null   object \n",
      " 12  Condition1     1459 non-null   object \n",
      " 13  Condition2     1459 non-null   object \n",
      " 14  BldgType       1459 non-null   object \n",
      " 15  HouseStyle     1459 non-null   object \n",
      " 16  OverallQual    1459 non-null   int64  \n",
      " 17  OverallCond    1459 non-null   int64  \n",
      " 18  YearBuilt      1459 non-null   int64  \n",
      " 19  YearRemodAdd   1459 non-null   int64  \n",
      " 20  RoofStyle      1459 non-null   object \n",
      " 21  RoofMatl       1459 non-null   object \n",
      " 22  Exterior1st    1458 non-null   object \n",
      " 23  Exterior2nd    1458 non-null   object \n",
      " 24  MasVnrType     1443 non-null   object \n",
      " 25  MasVnrArea     1444 non-null   float64\n",
      " 26  ExterQual      1459 non-null   object \n",
      " 27  ExterCond      1459 non-null   object \n",
      " 28  Foundation     1459 non-null   object \n",
      " 29  BsmtQual       1415 non-null   object \n",
      " 30  BsmtCond       1414 non-null   object \n",
      " 31  BsmtExposure   1415 non-null   object \n",
      " 32  BsmtFinType1   1417 non-null   object \n",
      " 33  BsmtFinSF1     1458 non-null   float64\n",
      " 34  BsmtFinType2   1417 non-null   object \n",
      " 35  BsmtFinSF2     1458 non-null   float64\n",
      " 36  BsmtUnfSF      1458 non-null   float64\n",
      " 37  TotalBsmtSF    1458 non-null   float64\n",
      " 38  Heating        1459 non-null   object \n",
      " 39  HeatingQC      1459 non-null   object \n",
      " 40  CentralAir     1459 non-null   object \n",
      " 41  Electrical     1459 non-null   object \n",
      " 42  1stFlrSF       1459 non-null   int64  \n",
      " 43  2ndFlrSF       1459 non-null   int64  \n",
      " 44  LowQualFinSF   1459 non-null   int64  \n",
      " 45  GrLivArea      1459 non-null   int64  \n",
      " 46  BsmtFullBath   1457 non-null   float64\n",
      " 47  BsmtHalfBath   1457 non-null   float64\n",
      " 48  FullBath       1459 non-null   int64  \n",
      " 49  HalfBath       1459 non-null   int64  \n",
      " 50  BedroomAbvGr   1459 non-null   int64  \n",
      " 51  KitchenAbvGr   1459 non-null   int64  \n",
      " 52  KitchenQual    1458 non-null   object \n",
      " 53  TotRmsAbvGrd   1459 non-null   int64  \n",
      " 54  Functional     1457 non-null   object \n",
      " 55  Fireplaces     1459 non-null   int64  \n",
      " 56  FireplaceQu    729 non-null    object \n",
      " 57  GarageType     1383 non-null   object \n",
      " 58  GarageYrBlt    1381 non-null   float64\n",
      " 59  GarageFinish   1381 non-null   object \n",
      " 60  GarageCars     1458 non-null   float64\n",
      " 61  GarageArea     1458 non-null   float64\n",
      " 62  GarageQual     1381 non-null   object \n",
      " 63  GarageCond     1381 non-null   object \n",
      " 64  PavedDrive     1459 non-null   object \n",
      " 65  WoodDeckSF     1459 non-null   int64  \n",
      " 66  OpenPorchSF    1459 non-null   int64  \n",
      " 67  EnclosedPorch  1459 non-null   int64  \n",
      " 68  3SsnPorch      1459 non-null   int64  \n",
      " 69  ScreenPorch    1459 non-null   int64  \n",
      " 70  PoolArea       1459 non-null   int64  \n",
      " 71  PoolQC         3 non-null      object \n",
      " 72  Fence          290 non-null    object \n",
      " 73  MiscFeature    51 non-null     object \n",
      " 74  MiscVal        1459 non-null   int64  \n",
      " 75  MoSold         1459 non-null   int64  \n",
      " 76  YrSold         1459 non-null   int64  \n",
      " 77  SaleType       1458 non-null   object \n",
      " 78  SaleCondition  1459 non-null   object \n",
      "dtypes: float64(11), int64(25), object(43)\n",
      "memory usage: 911.9+ KB\n"
     ]
    }
   ],
   "source": [
    "test.info()"
   ]
  },
  {
   "cell_type": "markdown",
   "id": "e7455499",
   "metadata": {
    "papermill": {
     "duration": 0.005838,
     "end_time": "2023-07-22T09:31:03.247264",
     "exception": false,
     "start_time": "2023-07-22T09:31:03.241426",
     "status": "completed"
    },
    "tags": []
   },
   "source": [
    "# Split data into cats and const"
   ]
  },
  {
   "cell_type": "code",
   "execution_count": 6,
   "id": "40447e39",
   "metadata": {
    "execution": {
     "iopub.execute_input": "2023-07-22T09:31:03.261442Z",
     "iopub.status.busy": "2023-07-22T09:31:03.261045Z",
     "iopub.status.idle": "2023-07-22T09:31:04.482311Z",
     "shell.execute_reply": "2023-07-22T09:31:04.481033Z"
    },
    "papermill": {
     "duration": 1.232817,
     "end_time": "2023-07-22T09:31:04.486257",
     "exception": false,
     "start_time": "2023-07-22T09:31:03.253440",
     "status": "completed"
    },
    "tags": []
   },
   "outputs": [
    {
     "name": "stderr",
     "output_type": "stream",
     "text": [
      "/opt/conda/lib/python3.10/site-packages/scipy/__init__.py:146: UserWarning: A NumPy version >=1.16.5 and <1.23.0 is required for this version of SciPy (detected version 1.23.5\n",
      "  warnings.warn(f\"A NumPy version >={np_minversion} and <{np_maxversion}\"\n"
     ]
    }
   ],
   "source": [
    "from sklearn.compose import make_column_selector as selector\n",
    "\n",
    "numerical_columns_selector = selector(dtype_exclude=object)\n",
    "categorical_columns_selector = selector(dtype_include=object)\n",
    "const =  numerical_columns_selector(train)\n",
    "cats = categorical_columns_selector(train)\n",
    "const_test =  numerical_columns_selector(test)\n",
    "cats_test = categorical_columns_selector(test)"
   ]
  },
  {
   "cell_type": "markdown",
   "id": "48e12d96",
   "metadata": {
    "papermill": {
     "duration": 0.007465,
     "end_time": "2023-07-22T09:31:04.503481",
     "exception": false,
     "start_time": "2023-07-22T09:31:04.496016",
     "status": "completed"
    },
    "tags": []
   },
   "source": [
    "# Correlation matrix on const"
   ]
  },
  {
   "cell_type": "code",
   "execution_count": 7,
   "id": "7705ee8f",
   "metadata": {
    "execution": {
     "iopub.execute_input": "2023-07-22T09:31:04.522436Z",
     "iopub.status.busy": "2023-07-22T09:31:04.521934Z",
     "iopub.status.idle": "2023-07-22T09:31:04.547700Z",
     "shell.execute_reply": "2023-07-22T09:31:04.546860Z"
    },
    "papermill": {
     "duration": 0.036729,
     "end_time": "2023-07-22T09:31:04.550045",
     "exception": false,
     "start_time": "2023-07-22T09:31:04.513316",
     "status": "completed"
    },
    "tags": []
   },
   "outputs": [
    {
     "data": {
      "text/plain": [
       "SalePrice        1.000000\n",
       "OverallQual      0.790982\n",
       "GrLivArea        0.708624\n",
       "GarageCars       0.640409\n",
       "GarageArea       0.623431\n",
       "TotalBsmtSF      0.613581\n",
       "1stFlrSF         0.605852\n",
       "FullBath         0.560664\n",
       "TotRmsAbvGrd     0.533723\n",
       "YearBuilt        0.522897\n",
       "YearRemodAdd     0.507101\n",
       "GarageYrBlt      0.486362\n",
       "MasVnrArea       0.477493\n",
       "Fireplaces       0.466929\n",
       "BsmtFinSF1       0.386420\n",
       "LotFrontage      0.351799\n",
       "WoodDeckSF       0.324413\n",
       "2ndFlrSF         0.319334\n",
       "OpenPorchSF      0.315856\n",
       "HalfBath         0.284108\n",
       "LotArea          0.263843\n",
       "BsmtFullBath     0.227122\n",
       "BsmtUnfSF        0.214479\n",
       "BedroomAbvGr     0.168213\n",
       "ScreenPorch      0.111447\n",
       "PoolArea         0.092404\n",
       "MoSold           0.046432\n",
       "3SsnPorch        0.044584\n",
       "BsmtFinSF2      -0.011378\n",
       "BsmtHalfBath    -0.016844\n",
       "MiscVal         -0.021190\n",
       "LowQualFinSF    -0.025606\n",
       "YrSold          -0.028923\n",
       "OverallCond     -0.077856\n",
       "MSSubClass      -0.084284\n",
       "EnclosedPorch   -0.128578\n",
       "KitchenAbvGr    -0.135907\n",
       "Name: SalePrice, dtype: float64"
      ]
     },
     "execution_count": 7,
     "metadata": {},
     "output_type": "execute_result"
    }
   ],
   "source": [
    "corr_matrix = train[const].corr()\n",
    "corr_matrix[\"SalePrice\"].sort_values(ascending = False)"
   ]
  },
  {
   "cell_type": "markdown",
   "id": "3b9fa2cf",
   "metadata": {
    "papermill": {
     "duration": 0.006583,
     "end_time": "2023-07-22T09:31:04.564467",
     "exception": false,
     "start_time": "2023-07-22T09:31:04.557884",
     "status": "completed"
    },
    "tags": []
   },
   "source": [
    "droping least significant columns"
   ]
  },
  {
   "cell_type": "code",
   "execution_count": 8,
   "id": "f7839d2d",
   "metadata": {
    "execution": {
     "iopub.execute_input": "2023-07-22T09:31:04.579687Z",
     "iopub.status.busy": "2023-07-22T09:31:04.578896Z",
     "iopub.status.idle": "2023-07-22T09:31:04.584345Z",
     "shell.execute_reply": "2023-07-22T09:31:04.583578Z"
    },
    "papermill": {
     "duration": 0.015521,
     "end_time": "2023-07-22T09:31:04.586487",
     "exception": false,
     "start_time": "2023-07-22T09:31:04.570966",
     "status": "completed"
    },
    "tags": []
   },
   "outputs": [],
   "source": [
    "unwanted = [\"YrSold\",\"LowQualFinSF\",\"LowQualFinSF\",\"MiscVal\",\"BsmtHalfBath\",\"BsmtFinSF2\",\"3SsnPorch\",\"MoSold\", \"SalePrice\"]\n",
    "const = list(set(const)- set(unwanted))\n",
    "const_test = list(set(const_test)- set(unwanted))"
   ]
  },
  {
   "cell_type": "markdown",
   "id": "e0ed4b7a",
   "metadata": {
    "papermill": {
     "duration": 0.006313,
     "end_time": "2023-07-22T09:31:04.599377",
     "exception": false,
     "start_time": "2023-07-22T09:31:04.593064",
     "status": "completed"
    },
    "tags": []
   },
   "source": [
    "Imputing missing values"
   ]
  },
  {
   "cell_type": "code",
   "execution_count": 9,
   "id": "10ee02c2",
   "metadata": {
    "execution": {
     "iopub.execute_input": "2023-07-22T09:31:04.614456Z",
     "iopub.status.busy": "2023-07-22T09:31:04.614036Z",
     "iopub.status.idle": "2023-07-22T09:31:04.993364Z",
     "shell.execute_reply": "2023-07-22T09:31:04.992166Z"
    },
    "papermill": {
     "duration": 0.389965,
     "end_time": "2023-07-22T09:31:04.996122",
     "exception": false,
     "start_time": "2023-07-22T09:31:04.606157",
     "status": "completed"
    },
    "tags": []
   },
   "outputs": [],
   "source": [
    "from sklearn.impute import SimpleImputer\n",
    "impute = SimpleImputer(strategy = \"median\")\n",
    "train[const] = impute.fit_transform(train[const])\n",
    "test[const_test] = impute.transform(test[const_test])\n"
   ]
  },
  {
   "cell_type": "markdown",
   "id": "53d97d2c",
   "metadata": {
    "papermill": {
     "duration": 0.006198,
     "end_time": "2023-07-22T09:31:05.008967",
     "exception": false,
     "start_time": "2023-07-22T09:31:05.002769",
     "status": "completed"
    },
    "tags": []
   },
   "source": [
    "# Working with Cats"
   ]
  },
  {
   "cell_type": "markdown",
   "id": "bd2b39f8",
   "metadata": {
    "papermill": {
     "duration": 0.006153,
     "end_time": "2023-07-22T09:31:05.021574",
     "exception": false,
     "start_time": "2023-07-22T09:31:05.015421",
     "status": "completed"
    },
    "tags": []
   },
   "source": [
    "**Feature engineering**"
   ]
  },
  {
   "cell_type": "code",
   "execution_count": 10,
   "id": "40c5b3e2",
   "metadata": {
    "execution": {
     "iopub.execute_input": "2023-07-22T09:31:05.036203Z",
     "iopub.status.busy": "2023-07-22T09:31:05.035788Z",
     "iopub.status.idle": "2023-07-22T09:31:05.109911Z",
     "shell.execute_reply": "2023-07-22T09:31:05.108891Z"
    },
    "papermill": {
     "duration": 0.084418,
     "end_time": "2023-07-22T09:31:05.112479",
     "exception": false,
     "start_time": "2023-07-22T09:31:05.028061",
     "status": "completed"
    },
    "tags": []
   },
   "outputs": [],
   "source": [
    "train[cats] = train[cats].fillna(value = 0)\n",
    "test[cats_test] = test[cats_test].fillna(value = 0)"
   ]
  },
  {
   "cell_type": "code",
   "execution_count": 11,
   "id": "3c3084d5",
   "metadata": {
    "execution": {
     "iopub.execute_input": "2023-07-22T09:31:05.127428Z",
     "iopub.status.busy": "2023-07-22T09:31:05.127022Z",
     "iopub.status.idle": "2023-07-22T09:31:05.212137Z",
     "shell.execute_reply": "2023-07-22T09:31:05.210949Z"
    },
    "papermill": {
     "duration": 0.095691,
     "end_time": "2023-07-22T09:31:05.214733",
     "exception": false,
     "start_time": "2023-07-22T09:31:05.119042",
     "status": "completed"
    },
    "tags": []
   },
   "outputs": [],
   "source": [
    "train_cats = pd.get_dummies(train[cats])\n",
    "test_cats = pd.get_dummies(test[cats_test])"
   ]
  },
  {
   "cell_type": "code",
   "execution_count": 12,
   "id": "f4efaf20",
   "metadata": {
    "execution": {
     "iopub.execute_input": "2023-07-22T09:31:05.229678Z",
     "iopub.status.busy": "2023-07-22T09:31:05.229260Z",
     "iopub.status.idle": "2023-07-22T09:31:05.234305Z",
     "shell.execute_reply": "2023-07-22T09:31:05.233063Z"
    },
    "papermill": {
     "duration": 0.015196,
     "end_time": "2023-07-22T09:31:05.236636",
     "exception": false,
     "start_time": "2023-07-22T09:31:05.221440",
     "status": "completed"
    },
    "tags": []
   },
   "outputs": [],
   "source": [
    "not_test = list(set(test_cats)^set(train_cats))"
   ]
  },
  {
   "cell_type": "code",
   "execution_count": 13,
   "id": "072ccf76",
   "metadata": {
    "execution": {
     "iopub.execute_input": "2023-07-22T09:31:05.251305Z",
     "iopub.status.busy": "2023-07-22T09:31:05.250916Z",
     "iopub.status.idle": "2023-07-22T09:31:05.267159Z",
     "shell.execute_reply": "2023-07-22T09:31:05.266013Z"
    },
    "papermill": {
     "duration": 0.026358,
     "end_time": "2023-07-22T09:31:05.269424",
     "exception": false,
     "start_time": "2023-07-22T09:31:05.243066",
     "status": "completed"
    },
    "tags": []
   },
   "outputs": [],
   "source": [
    "for i in not_test:\n",
    "    if(i not in train_cats):\n",
    "        train_cats[i] = 0\n",
    "    if(i not in test_cats):\n",
    "        test_cats[i] = 0"
   ]
  },
  {
   "cell_type": "markdown",
   "id": "388dd359",
   "metadata": {
    "papermill": {
     "duration": 0.00603,
     "end_time": "2023-07-22T09:31:05.282054",
     "exception": false,
     "start_time": "2023-07-22T09:31:05.276024",
     "status": "completed"
    },
    "tags": []
   },
   "source": [
    "# Merging cats and const"
   ]
  },
  {
   "cell_type": "code",
   "execution_count": 14,
   "id": "47587d9a",
   "metadata": {
    "execution": {
     "iopub.execute_input": "2023-07-22T09:31:05.296564Z",
     "iopub.status.busy": "2023-07-22T09:31:05.296127Z",
     "iopub.status.idle": "2023-07-22T09:31:05.307877Z",
     "shell.execute_reply": "2023-07-22T09:31:05.306942Z"
    },
    "papermill": {
     "duration": 0.021654,
     "end_time": "2023-07-22T09:31:05.310018",
     "exception": false,
     "start_time": "2023-07-22T09:31:05.288364",
     "status": "completed"
    },
    "tags": []
   },
   "outputs": [],
   "source": [
    "train = pd.concat([train[const], train_cats,pred], axis=1)\n",
    "test = pd.concat([test[const_test], test_cats], axis=1)\n"
   ]
  },
  {
   "cell_type": "code",
   "execution_count": 15,
   "id": "a36155e6",
   "metadata": {
    "execution": {
     "iopub.execute_input": "2023-07-22T09:31:05.325209Z",
     "iopub.status.busy": "2023-07-22T09:31:05.324545Z",
     "iopub.status.idle": "2023-07-22T09:31:05.336373Z",
     "shell.execute_reply": "2023-07-22T09:31:05.334986Z"
    },
    "papermill": {
     "duration": 0.022081,
     "end_time": "2023-07-22T09:31:05.338769",
     "exception": false,
     "start_time": "2023-07-22T09:31:05.316688",
     "status": "completed"
    },
    "tags": []
   },
   "outputs": [],
   "source": [
    "train =  train.sort_index(axis = 1)\n",
    "test = test.sort_index(axis = 1)"
   ]
  },
  {
   "cell_type": "code",
   "execution_count": 16,
   "id": "669f856e",
   "metadata": {
    "execution": {
     "iopub.execute_input": "2023-07-22T09:31:05.354134Z",
     "iopub.status.busy": "2023-07-22T09:31:05.353043Z",
     "iopub.status.idle": "2023-07-22T09:31:05.367310Z",
     "shell.execute_reply": "2023-07-22T09:31:05.366201Z"
    },
    "papermill": {
     "duration": 0.024359,
     "end_time": "2023-07-22T09:31:05.369714",
     "exception": false,
     "start_time": "2023-07-22T09:31:05.345355",
     "status": "completed"
    },
    "tags": []
   },
   "outputs": [],
   "source": [
    "train = train.astype(int)\n",
    "test = test.astype(int)"
   ]
  },
  {
   "cell_type": "markdown",
   "id": "b77fbbff",
   "metadata": {
    "papermill": {
     "duration": 0.006094,
     "end_time": "2023-07-22T09:31:05.382448",
     "exception": false,
     "start_time": "2023-07-22T09:31:05.376354",
     "status": "completed"
    },
    "tags": []
   },
   "source": [
    "Stratified data split"
   ]
  },
  {
   "cell_type": "code",
   "execution_count": null,
   "id": "f62cc1de",
   "metadata": {
    "execution": {
     "iopub.execute_input": "2023-07-16T17:19:56.930392Z",
     "iopub.status.busy": "2023-07-16T17:19:56.929949Z",
     "iopub.status.idle": "2023-07-16T17:19:56.956477Z",
     "shell.execute_reply": "2023-07-16T17:19:56.955365Z",
     "shell.execute_reply.started": "2023-07-16T17:19:56.930353Z"
    },
    "papermill": {
     "duration": 0.00606,
     "end_time": "2023-07-22T09:31:05.394847",
     "exception": false,
     "start_time": "2023-07-22T09:31:05.388787",
     "status": "completed"
    },
    "tags": []
   },
   "outputs": [],
   "source": []
  },
  {
   "cell_type": "code",
   "execution_count": null,
   "id": "9182615f",
   "metadata": {
    "execution": {
     "iopub.execute_input": "2023-07-16T17:19:38.578206Z",
     "iopub.status.busy": "2023-07-16T17:19:38.577879Z",
     "iopub.status.idle": "2023-07-16T17:19:38.624460Z",
     "shell.execute_reply": "2023-07-16T17:19:38.623430Z",
     "shell.execute_reply.started": "2023-07-16T17:19:38.578182Z"
    },
    "papermill": {
     "duration": 0.006078,
     "end_time": "2023-07-22T09:31:05.407438",
     "exception": false,
     "start_time": "2023-07-22T09:31:05.401360",
     "status": "completed"
    },
    "tags": []
   },
   "outputs": [],
   "source": []
  },
  {
   "cell_type": "code",
   "execution_count": null,
   "id": "73331a92",
   "metadata": {
    "papermill": {
     "duration": 0.006087,
     "end_time": "2023-07-22T09:31:05.419857",
     "exception": false,
     "start_time": "2023-07-22T09:31:05.413770",
     "status": "completed"
    },
    "tags": []
   },
   "outputs": [],
   "source": []
  }
 ],
 "metadata": {
  "kernelspec": {
   "display_name": "Python 3",
   "language": "python",
   "name": "python3"
  },
  "language_info": {
   "codemirror_mode": {
    "name": "ipython",
    "version": 3
   },
   "file_extension": ".py",
   "mimetype": "text/x-python",
   "name": "python",
   "nbconvert_exporter": "python",
   "pygments_lexer": "ipython3",
   "version": "3.10.12"
  },
  "papermill": {
   "default_parameters": {},
   "duration": 12.793821,
   "end_time": "2023-07-22T09:31:06.347908",
   "environment_variables": {},
   "exception": null,
   "input_path": "__notebook__.ipynb",
   "output_path": "__notebook__.ipynb",
   "parameters": {},
   "start_time": "2023-07-22T09:30:53.554087",
   "version": "2.4.0"
  }
 },
 "nbformat": 4,
 "nbformat_minor": 5
}
