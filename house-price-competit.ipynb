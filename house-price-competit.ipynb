{
 "cells": [
  {
   "cell_type": "code",
   "execution_count": 1,
   "id": "59cc9812",
   "metadata": {
    "_cell_guid": "b1076dfc-b9ad-4769-8c92-a6c4dae69d19",
    "_uuid": "8f2839f25d086af736a60e9eeb907d3b93b6e0e5",
    "execution": {
     "iopub.execute_input": "2023-03-06T18:42:04.234849Z",
     "iopub.status.busy": "2023-03-06T18:42:04.234422Z",
     "iopub.status.idle": "2023-03-06T18:42:04.252165Z",
     "shell.execute_reply": "2023-03-06T18:42:04.251060Z"
    },
    "papermill": {
     "duration": 0.029795,
     "end_time": "2023-03-06T18:42:04.255355",
     "exception": false,
     "start_time": "2023-03-06T18:42:04.225560",
     "status": "completed"
    },
    "tags": []
   },
   "outputs": [
    {
     "name": "stdout",
     "output_type": "stream",
     "text": [
      "/kaggle/input/house-prices-advanced-regression-techniques/sample_submission.csv\n",
      "/kaggle/input/house-prices-advanced-regression-techniques/data_description.txt\n",
      "/kaggle/input/house-prices-advanced-regression-techniques/train.csv\n",
      "/kaggle/input/house-prices-advanced-regression-techniques/test.csv\n"
     ]
    }
   ],
   "source": [
    "# This Python 3 environment comes with many helpful analytics libraries installed\n",
    "# It is defined by the kaggle/python Docker image: https://github.com/kaggle/docker-python\n",
    "# For example, here's several helpful packages to load\n",
    "\n",
    "import numpy as np # linear algebra\n",
    "import pandas as pd # data processing, CSV file I/O (e.g. pd.read_csv)\n",
    "\n",
    "# Input data files are available in the read-only \"../input/\" directory\n",
    "# For example, running this (by clicking run or pressing Shift+Enter) will list all files under the input directory\n",
    "\n",
    "import os\n",
    "for dirname, _, filenames in os.walk('/kaggle/input'):\n",
    "    for filename in filenames:\n",
    "        print(os.path.join(dirname, filename))\n",
    "\n",
    "# You can write up to 20GB to the current directory (/kaggle/working/) that gets preserved as output when you create a version using \"Save & Run All\" \n",
    "# You can also write temporary files to /kaggle/temp/, but they won't be saved outside of the current session"
   ]
  },
  {
   "cell_type": "code",
   "execution_count": 2,
   "id": "3a333e43",
   "metadata": {
    "execution": {
     "iopub.execute_input": "2023-03-06T18:42:04.268790Z",
     "iopub.status.busy": "2023-03-06T18:42:04.267883Z",
     "iopub.status.idle": "2023-03-06T18:42:05.653362Z",
     "shell.execute_reply": "2023-03-06T18:42:05.651781Z"
    },
    "papermill": {
     "duration": 1.395716,
     "end_time": "2023-03-06T18:42:05.656579",
     "exception": false,
     "start_time": "2023-03-06T18:42:04.260863",
     "status": "completed"
    },
    "tags": []
   },
   "outputs": [],
   "source": [
    "import pandas as pd\n",
    "import numpy as np\n",
    "import math\n",
    "from sklearn.model_selection import train_test_split\n",
    "from sklearn.preprocessing import StandardScaler\n",
    "from sklearn.metrics import mean_squared_error\n",
    "from sklearn.linear_model import LinearRegression"
   ]
  },
  {
   "cell_type": "code",
   "execution_count": 3,
   "id": "b7c1b27e",
   "metadata": {
    "execution": {
     "iopub.execute_input": "2023-03-06T18:42:05.670799Z",
     "iopub.status.busy": "2023-03-06T18:42:05.670233Z",
     "iopub.status.idle": "2023-03-06T18:42:05.719141Z",
     "shell.execute_reply": "2023-03-06T18:42:05.717664Z"
    },
    "papermill": {
     "duration": 0.060087,
     "end_time": "2023-03-06T18:42:05.722463",
     "exception": false,
     "start_time": "2023-03-06T18:42:05.662376",
     "status": "completed"
    },
    "tags": []
   },
   "outputs": [],
   "source": [
    "train = pd.read_csv('/kaggle/input/house-prices-advanced-regression-techniques/train.csv')"
   ]
  },
  {
   "cell_type": "code",
   "execution_count": 4,
   "id": "ab869e7f",
   "metadata": {
    "execution": {
     "iopub.execute_input": "2023-03-06T18:42:05.736802Z",
     "iopub.status.busy": "2023-03-06T18:42:05.735546Z",
     "iopub.status.idle": "2023-03-06T18:42:05.784143Z",
     "shell.execute_reply": "2023-03-06T18:42:05.782782Z"
    },
    "papermill": {
     "duration": 0.058614,
     "end_time": "2023-03-06T18:42:05.786920",
     "exception": false,
     "start_time": "2023-03-06T18:42:05.728306",
     "status": "completed"
    },
    "tags": []
   },
   "outputs": [
    {
     "data": {
      "text/html": [
       "<div>\n",
       "<style scoped>\n",
       "    .dataframe tbody tr th:only-of-type {\n",
       "        vertical-align: middle;\n",
       "    }\n",
       "\n",
       "    .dataframe tbody tr th {\n",
       "        vertical-align: top;\n",
       "    }\n",
       "\n",
       "    .dataframe thead th {\n",
       "        text-align: right;\n",
       "    }\n",
       "</style>\n",
       "<table border=\"1\" class=\"dataframe\">\n",
       "  <thead>\n",
       "    <tr style=\"text-align: right;\">\n",
       "      <th></th>\n",
       "      <th>Id</th>\n",
       "      <th>MSSubClass</th>\n",
       "      <th>MSZoning</th>\n",
       "      <th>LotFrontage</th>\n",
       "      <th>LotArea</th>\n",
       "      <th>Street</th>\n",
       "      <th>Alley</th>\n",
       "      <th>LotShape</th>\n",
       "      <th>LandContour</th>\n",
       "      <th>Utilities</th>\n",
       "      <th>...</th>\n",
       "      <th>PoolArea</th>\n",
       "      <th>PoolQC</th>\n",
       "      <th>Fence</th>\n",
       "      <th>MiscFeature</th>\n",
       "      <th>MiscVal</th>\n",
       "      <th>MoSold</th>\n",
       "      <th>YrSold</th>\n",
       "      <th>SaleType</th>\n",
       "      <th>SaleCondition</th>\n",
       "      <th>SalePrice</th>\n",
       "    </tr>\n",
       "  </thead>\n",
       "  <tbody>\n",
       "    <tr>\n",
       "      <th>0</th>\n",
       "      <td>1</td>\n",
       "      <td>60</td>\n",
       "      <td>RL</td>\n",
       "      <td>65.0</td>\n",
       "      <td>8450</td>\n",
       "      <td>Pave</td>\n",
       "      <td>NaN</td>\n",
       "      <td>Reg</td>\n",
       "      <td>Lvl</td>\n",
       "      <td>AllPub</td>\n",
       "      <td>...</td>\n",
       "      <td>0</td>\n",
       "      <td>NaN</td>\n",
       "      <td>NaN</td>\n",
       "      <td>NaN</td>\n",
       "      <td>0</td>\n",
       "      <td>2</td>\n",
       "      <td>2008</td>\n",
       "      <td>WD</td>\n",
       "      <td>Normal</td>\n",
       "      <td>208500</td>\n",
       "    </tr>\n",
       "    <tr>\n",
       "      <th>1</th>\n",
       "      <td>2</td>\n",
       "      <td>20</td>\n",
       "      <td>RL</td>\n",
       "      <td>80.0</td>\n",
       "      <td>9600</td>\n",
       "      <td>Pave</td>\n",
       "      <td>NaN</td>\n",
       "      <td>Reg</td>\n",
       "      <td>Lvl</td>\n",
       "      <td>AllPub</td>\n",
       "      <td>...</td>\n",
       "      <td>0</td>\n",
       "      <td>NaN</td>\n",
       "      <td>NaN</td>\n",
       "      <td>NaN</td>\n",
       "      <td>0</td>\n",
       "      <td>5</td>\n",
       "      <td>2007</td>\n",
       "      <td>WD</td>\n",
       "      <td>Normal</td>\n",
       "      <td>181500</td>\n",
       "    </tr>\n",
       "    <tr>\n",
       "      <th>2</th>\n",
       "      <td>3</td>\n",
       "      <td>60</td>\n",
       "      <td>RL</td>\n",
       "      <td>68.0</td>\n",
       "      <td>11250</td>\n",
       "      <td>Pave</td>\n",
       "      <td>NaN</td>\n",
       "      <td>IR1</td>\n",
       "      <td>Lvl</td>\n",
       "      <td>AllPub</td>\n",
       "      <td>...</td>\n",
       "      <td>0</td>\n",
       "      <td>NaN</td>\n",
       "      <td>NaN</td>\n",
       "      <td>NaN</td>\n",
       "      <td>0</td>\n",
       "      <td>9</td>\n",
       "      <td>2008</td>\n",
       "      <td>WD</td>\n",
       "      <td>Normal</td>\n",
       "      <td>223500</td>\n",
       "    </tr>\n",
       "    <tr>\n",
       "      <th>3</th>\n",
       "      <td>4</td>\n",
       "      <td>70</td>\n",
       "      <td>RL</td>\n",
       "      <td>60.0</td>\n",
       "      <td>9550</td>\n",
       "      <td>Pave</td>\n",
       "      <td>NaN</td>\n",
       "      <td>IR1</td>\n",
       "      <td>Lvl</td>\n",
       "      <td>AllPub</td>\n",
       "      <td>...</td>\n",
       "      <td>0</td>\n",
       "      <td>NaN</td>\n",
       "      <td>NaN</td>\n",
       "      <td>NaN</td>\n",
       "      <td>0</td>\n",
       "      <td>2</td>\n",
       "      <td>2006</td>\n",
       "      <td>WD</td>\n",
       "      <td>Abnorml</td>\n",
       "      <td>140000</td>\n",
       "    </tr>\n",
       "    <tr>\n",
       "      <th>4</th>\n",
       "      <td>5</td>\n",
       "      <td>60</td>\n",
       "      <td>RL</td>\n",
       "      <td>84.0</td>\n",
       "      <td>14260</td>\n",
       "      <td>Pave</td>\n",
       "      <td>NaN</td>\n",
       "      <td>IR1</td>\n",
       "      <td>Lvl</td>\n",
       "      <td>AllPub</td>\n",
       "      <td>...</td>\n",
       "      <td>0</td>\n",
       "      <td>NaN</td>\n",
       "      <td>NaN</td>\n",
       "      <td>NaN</td>\n",
       "      <td>0</td>\n",
       "      <td>12</td>\n",
       "      <td>2008</td>\n",
       "      <td>WD</td>\n",
       "      <td>Normal</td>\n",
       "      <td>250000</td>\n",
       "    </tr>\n",
       "  </tbody>\n",
       "</table>\n",
       "<p>5 rows × 81 columns</p>\n",
       "</div>"
      ],
      "text/plain": [
       "   Id  MSSubClass MSZoning  LotFrontage  LotArea Street Alley LotShape  \\\n",
       "0   1          60       RL         65.0     8450   Pave   NaN      Reg   \n",
       "1   2          20       RL         80.0     9600   Pave   NaN      Reg   \n",
       "2   3          60       RL         68.0    11250   Pave   NaN      IR1   \n",
       "3   4          70       RL         60.0     9550   Pave   NaN      IR1   \n",
       "4   5          60       RL         84.0    14260   Pave   NaN      IR1   \n",
       "\n",
       "  LandContour Utilities  ... PoolArea PoolQC Fence MiscFeature MiscVal MoSold  \\\n",
       "0         Lvl    AllPub  ...        0    NaN   NaN         NaN       0      2   \n",
       "1         Lvl    AllPub  ...        0    NaN   NaN         NaN       0      5   \n",
       "2         Lvl    AllPub  ...        0    NaN   NaN         NaN       0      9   \n",
       "3         Lvl    AllPub  ...        0    NaN   NaN         NaN       0      2   \n",
       "4         Lvl    AllPub  ...        0    NaN   NaN         NaN       0     12   \n",
       "\n",
       "  YrSold  SaleType  SaleCondition  SalePrice  \n",
       "0   2008        WD         Normal     208500  \n",
       "1   2007        WD         Normal     181500  \n",
       "2   2008        WD         Normal     223500  \n",
       "3   2006        WD        Abnorml     140000  \n",
       "4   2008        WD         Normal     250000  \n",
       "\n",
       "[5 rows x 81 columns]"
      ]
     },
     "execution_count": 4,
     "metadata": {},
     "output_type": "execute_result"
    }
   ],
   "source": [
    "train.head()"
   ]
  },
  {
   "cell_type": "code",
   "execution_count": 5,
   "id": "791f693f",
   "metadata": {
    "execution": {
     "iopub.execute_input": "2023-03-06T18:42:05.800483Z",
     "iopub.status.busy": "2023-03-06T18:42:05.800005Z",
     "iopub.status.idle": "2023-03-06T18:42:05.834083Z",
     "shell.execute_reply": "2023-03-06T18:42:05.832764Z"
    },
    "papermill": {
     "duration": 0.04457,
     "end_time": "2023-03-06T18:42:05.837324",
     "exception": false,
     "start_time": "2023-03-06T18:42:05.792754",
     "status": "completed"
    },
    "tags": []
   },
   "outputs": [
    {
     "name": "stdout",
     "output_type": "stream",
     "text": [
      "<class 'pandas.core.frame.DataFrame'>\n",
      "RangeIndex: 1460 entries, 0 to 1459\n",
      "Data columns (total 81 columns):\n",
      " #   Column         Non-Null Count  Dtype  \n",
      "---  ------         --------------  -----  \n",
      " 0   Id             1460 non-null   int64  \n",
      " 1   MSSubClass     1460 non-null   int64  \n",
      " 2   MSZoning       1460 non-null   object \n",
      " 3   LotFrontage    1201 non-null   float64\n",
      " 4   LotArea        1460 non-null   int64  \n",
      " 5   Street         1460 non-null   object \n",
      " 6   Alley          91 non-null     object \n",
      " 7   LotShape       1460 non-null   object \n",
      " 8   LandContour    1460 non-null   object \n",
      " 9   Utilities      1460 non-null   object \n",
      " 10  LotConfig      1460 non-null   object \n",
      " 11  LandSlope      1460 non-null   object \n",
      " 12  Neighborhood   1460 non-null   object \n",
      " 13  Condition1     1460 non-null   object \n",
      " 14  Condition2     1460 non-null   object \n",
      " 15  BldgType       1460 non-null   object \n",
      " 16  HouseStyle     1460 non-null   object \n",
      " 17  OverallQual    1460 non-null   int64  \n",
      " 18  OverallCond    1460 non-null   int64  \n",
      " 19  YearBuilt      1460 non-null   int64  \n",
      " 20  YearRemodAdd   1460 non-null   int64  \n",
      " 21  RoofStyle      1460 non-null   object \n",
      " 22  RoofMatl       1460 non-null   object \n",
      " 23  Exterior1st    1460 non-null   object \n",
      " 24  Exterior2nd    1460 non-null   object \n",
      " 25  MasVnrType     1452 non-null   object \n",
      " 26  MasVnrArea     1452 non-null   float64\n",
      " 27  ExterQual      1460 non-null   object \n",
      " 28  ExterCond      1460 non-null   object \n",
      " 29  Foundation     1460 non-null   object \n",
      " 30  BsmtQual       1423 non-null   object \n",
      " 31  BsmtCond       1423 non-null   object \n",
      " 32  BsmtExposure   1422 non-null   object \n",
      " 33  BsmtFinType1   1423 non-null   object \n",
      " 34  BsmtFinSF1     1460 non-null   int64  \n",
      " 35  BsmtFinType2   1422 non-null   object \n",
      " 36  BsmtFinSF2     1460 non-null   int64  \n",
      " 37  BsmtUnfSF      1460 non-null   int64  \n",
      " 38  TotalBsmtSF    1460 non-null   int64  \n",
      " 39  Heating        1460 non-null   object \n",
      " 40  HeatingQC      1460 non-null   object \n",
      " 41  CentralAir     1460 non-null   object \n",
      " 42  Electrical     1459 non-null   object \n",
      " 43  1stFlrSF       1460 non-null   int64  \n",
      " 44  2ndFlrSF       1460 non-null   int64  \n",
      " 45  LowQualFinSF   1460 non-null   int64  \n",
      " 46  GrLivArea      1460 non-null   int64  \n",
      " 47  BsmtFullBath   1460 non-null   int64  \n",
      " 48  BsmtHalfBath   1460 non-null   int64  \n",
      " 49  FullBath       1460 non-null   int64  \n",
      " 50  HalfBath       1460 non-null   int64  \n",
      " 51  BedroomAbvGr   1460 non-null   int64  \n",
      " 52  KitchenAbvGr   1460 non-null   int64  \n",
      " 53  KitchenQual    1460 non-null   object \n",
      " 54  TotRmsAbvGrd   1460 non-null   int64  \n",
      " 55  Functional     1460 non-null   object \n",
      " 56  Fireplaces     1460 non-null   int64  \n",
      " 57  FireplaceQu    770 non-null    object \n",
      " 58  GarageType     1379 non-null   object \n",
      " 59  GarageYrBlt    1379 non-null   float64\n",
      " 60  GarageFinish   1379 non-null   object \n",
      " 61  GarageCars     1460 non-null   int64  \n",
      " 62  GarageArea     1460 non-null   int64  \n",
      " 63  GarageQual     1379 non-null   object \n",
      " 64  GarageCond     1379 non-null   object \n",
      " 65  PavedDrive     1460 non-null   object \n",
      " 66  WoodDeckSF     1460 non-null   int64  \n",
      " 67  OpenPorchSF    1460 non-null   int64  \n",
      " 68  EnclosedPorch  1460 non-null   int64  \n",
      " 69  3SsnPorch      1460 non-null   int64  \n",
      " 70  ScreenPorch    1460 non-null   int64  \n",
      " 71  PoolArea       1460 non-null   int64  \n",
      " 72  PoolQC         7 non-null      object \n",
      " 73  Fence          281 non-null    object \n",
      " 74  MiscFeature    54 non-null     object \n",
      " 75  MiscVal        1460 non-null   int64  \n",
      " 76  MoSold         1460 non-null   int64  \n",
      " 77  YrSold         1460 non-null   int64  \n",
      " 78  SaleType       1460 non-null   object \n",
      " 79  SaleCondition  1460 non-null   object \n",
      " 80  SalePrice      1460 non-null   int64  \n",
      "dtypes: float64(3), int64(35), object(43)\n",
      "memory usage: 924.0+ KB\n"
     ]
    }
   ],
   "source": [
    "train.info()"
   ]
  },
  {
   "cell_type": "markdown",
   "id": "e83a78c7",
   "metadata": {
    "papermill": {
     "duration": 0.005587,
     "end_time": "2023-03-06T18:42:05.848813",
     "exception": false,
     "start_time": "2023-03-06T18:42:05.843226",
     "status": "completed"
    },
    "tags": []
   },
   "source": [
    "Handeling missing values"
   ]
  },
  {
   "cell_type": "code",
   "execution_count": 6,
   "id": "2e37a620",
   "metadata": {
    "execution": {
     "iopub.execute_input": "2023-03-06T18:42:05.862919Z",
     "iopub.status.busy": "2023-03-06T18:42:05.862149Z",
     "iopub.status.idle": "2023-03-06T18:42:05.906173Z",
     "shell.execute_reply": "2023-03-06T18:42:05.905162Z"
    },
    "papermill": {
     "duration": 0.054519,
     "end_time": "2023-03-06T18:42:05.909064",
     "exception": false,
     "start_time": "2023-03-06T18:42:05.854545",
     "status": "completed"
    },
    "tags": []
   },
   "outputs": [],
   "source": [
    "for i in train.columns:\n",
    "     if(train.dtypes[i]== int or train.dtypes[i] == float ):\n",
    "        train[i].fillna(int(train[i].mean()), inplace=True)\n",
    "train.fillna(method ='bfill')\n",
    "train = train.dropna(axis = 1)\n"
   ]
  },
  {
   "cell_type": "markdown",
   "id": "471c26a4",
   "metadata": {
    "papermill": {
     "duration": 0.005629,
     "end_time": "2023-03-06T18:42:05.920598",
     "exception": false,
     "start_time": "2023-03-06T18:42:05.914969",
     "status": "completed"
    },
    "tags": []
   },
   "source": [
    "One Hot Encoding for data type as objects"
   ]
  },
  {
   "cell_type": "code",
   "execution_count": 7,
   "id": "94dc4f5d",
   "metadata": {
    "execution": {
     "iopub.execute_input": "2023-03-06T18:42:05.934339Z",
     "iopub.status.busy": "2023-03-06T18:42:05.933860Z",
     "iopub.status.idle": "2023-03-06T18:42:06.124425Z",
     "shell.execute_reply": "2023-03-06T18:42:06.123100Z"
    },
    "papermill": {
     "duration": 0.201998,
     "end_time": "2023-03-06T18:42:06.128392",
     "exception": false,
     "start_time": "2023-03-06T18:42:05.926394",
     "status": "completed"
    },
    "tags": []
   },
   "outputs": [
    {
     "name": "stdout",
     "output_type": "stream",
     "text": [
      "        Id  MSSubClass  LotFrontage  LotArea  OverallQual  OverallCond  \\\n",
      "0        1          60         65.0     8450            7            5   \n",
      "1        2          20         80.0     9600            6            8   \n",
      "2        3          60         68.0    11250            7            5   \n",
      "3        4          70         60.0     9550            7            5   \n",
      "4        5          60         84.0    14260            8            5   \n",
      "...    ...         ...          ...      ...          ...          ...   \n",
      "1455  1456          60         62.0     7917            6            5   \n",
      "1456  1457          20         85.0    13175            6            6   \n",
      "1457  1458          70         66.0     9042            7            9   \n",
      "1458  1459          20         68.0     9717            5            6   \n",
      "1459  1460          20         75.0     9937            5            6   \n",
      "\n",
      "      YearBuilt  YearRemodAdd  MasVnrArea  BsmtFinSF1  ...  SaleType_ConLw  \\\n",
      "0          2003          2003       196.0         706  ...               0   \n",
      "1          1976          1976         0.0         978  ...               0   \n",
      "2          2001          2002       162.0         486  ...               0   \n",
      "3          1915          1970         0.0         216  ...               0   \n",
      "4          2000          2000       350.0         655  ...               0   \n",
      "...         ...           ...         ...         ...  ...             ...   \n",
      "1455       1999          2000         0.0           0  ...               0   \n",
      "1456       1978          1988       119.0         790  ...               0   \n",
      "1457       1941          2006         0.0         275  ...               0   \n",
      "1458       1950          1996         0.0          49  ...               0   \n",
      "1459       1965          1965         0.0         830  ...               0   \n",
      "\n",
      "      SaleType_New  SaleType_Oth  SaleType_WD  SaleCondition_Abnorml  \\\n",
      "0                0             0            1                      0   \n",
      "1                0             0            1                      0   \n",
      "2                0             0            1                      0   \n",
      "3                0             0            1                      1   \n",
      "4                0             0            1                      0   \n",
      "...            ...           ...          ...                    ...   \n",
      "1455             0             0            1                      0   \n",
      "1456             0             0            1                      0   \n",
      "1457             0             0            1                      0   \n",
      "1458             0             0            1                      0   \n",
      "1459             0             0            1                      0   \n",
      "\n",
      "      SaleCondition_AdjLand  SaleCondition_Alloca  SaleCondition_Family  \\\n",
      "0                         0                     0                     0   \n",
      "1                         0                     0                     0   \n",
      "2                         0                     0                     0   \n",
      "3                         0                     0                     0   \n",
      "4                         0                     0                     0   \n",
      "...                     ...                   ...                   ...   \n",
      "1455                      0                     0                     0   \n",
      "1456                      0                     0                     0   \n",
      "1457                      0                     0                     0   \n",
      "1458                      0                     0                     0   \n",
      "1459                      0                     0                     0   \n",
      "\n",
      "      SaleCondition_Normal  SaleCondition_Partial  \n",
      "0                        1                      0  \n",
      "1                        1                      0  \n",
      "2                        1                      0  \n",
      "3                        0                      0  \n",
      "4                        1                      0  \n",
      "...                    ...                    ...  \n",
      "1455                     1                      0  \n",
      "1456                     1                      0  \n",
      "1457                     1                      0  \n",
      "1458                     1                      0  \n",
      "1459                     1                      0  \n",
      "\n",
      "[1460 rows x 220 columns]\n"
     ]
    }
   ],
   "source": [
    "for i in train.columns:\n",
    "    if(train.dtypes[i]== object ):\n",
    "        train = pd.get_dummies(train, columns = [i])\n",
    "print(train)\n",
    "        "
   ]
  },
  {
   "cell_type": "code",
   "execution_count": 8,
   "id": "bc62a5ef",
   "metadata": {
    "execution": {
     "iopub.execute_input": "2023-03-06T18:42:06.143758Z",
     "iopub.status.busy": "2023-03-06T18:42:06.142936Z",
     "iopub.status.idle": "2023-03-06T18:42:06.166867Z",
     "shell.execute_reply": "2023-03-06T18:42:06.165622Z"
    },
    "papermill": {
     "duration": 0.033886,
     "end_time": "2023-03-06T18:42:06.169384",
     "exception": false,
     "start_time": "2023-03-06T18:42:06.135498",
     "status": "completed"
    },
    "tags": []
   },
   "outputs": [
    {
     "name": "stdout",
     "output_type": "stream",
     "text": [
      "<class 'pandas.core.frame.DataFrame'>\n",
      "RangeIndex: 1460 entries, 0 to 1459\n",
      "Columns: 220 entries, Id to SaleCondition_Partial\n",
      "dtypes: int64(220)\n",
      "memory usage: 2.5 MB\n"
     ]
    }
   ],
   "source": [
    "train = train.astype('int')\n",
    "train.info()"
   ]
  },
  {
   "cell_type": "code",
   "execution_count": 9,
   "id": "b4584c30",
   "metadata": {
    "execution": {
     "iopub.execute_input": "2023-03-06T18:42:06.183674Z",
     "iopub.status.busy": "2023-03-06T18:42:06.183176Z",
     "iopub.status.idle": "2023-03-06T18:42:06.196071Z",
     "shell.execute_reply": "2023-03-06T18:42:06.194697Z"
    },
    "papermill": {
     "duration": 0.023604,
     "end_time": "2023-03-06T18:42:06.198978",
     "exception": false,
     "start_time": "2023-03-06T18:42:06.175374",
     "status": "completed"
    },
    "tags": []
   },
   "outputs": [],
   "source": [
    "x = np.asarray(train.drop(['SalePrice'],axis = 1))\n",
    "y = np.asarray(train['SalePrice'])"
   ]
  },
  {
   "cell_type": "markdown",
   "id": "efff714b",
   "metadata": {
    "papermill": {
     "duration": 0.005987,
     "end_time": "2023-03-06T18:42:06.211082",
     "exception": false,
     "start_time": "2023-03-06T18:42:06.205095",
     "status": "completed"
    },
    "tags": []
   },
   "source": [
    "Normalizing Data"
   ]
  },
  {
   "cell_type": "code",
   "execution_count": 10,
   "id": "710fa448",
   "metadata": {
    "execution": {
     "iopub.execute_input": "2023-03-06T18:42:06.225225Z",
     "iopub.status.busy": "2023-03-06T18:42:06.224760Z",
     "iopub.status.idle": "2023-03-06T18:42:06.240315Z",
     "shell.execute_reply": "2023-03-06T18:42:06.239019Z"
    },
    "papermill": {
     "duration": 0.026353,
     "end_time": "2023-03-06T18:42:06.243399",
     "exception": false,
     "start_time": "2023-03-06T18:42:06.217046",
     "status": "completed"
    },
    "tags": []
   },
   "outputs": [],
   "source": [
    "scaler = StandardScaler()\n",
    "x_train=scaler.fit_transform(x)    \n",
    "x_test= scaler.transform(x)  "
   ]
  },
  {
   "cell_type": "code",
   "execution_count": 11,
   "id": "6bb30de6",
   "metadata": {
    "execution": {
     "iopub.execute_input": "2023-03-06T18:42:06.257854Z",
     "iopub.status.busy": "2023-03-06T18:42:06.257390Z",
     "iopub.status.idle": "2023-03-06T18:42:06.266859Z",
     "shell.execute_reply": "2023-03-06T18:42:06.265666Z"
    },
    "papermill": {
     "duration": 0.01956,
     "end_time": "2023-03-06T18:42:06.269158",
     "exception": false,
     "start_time": "2023-03-06T18:42:06.249598",
     "status": "completed"
    },
    "tags": []
   },
   "outputs": [],
   "source": [
    " x_train, x_test, y_train, y_test = train_test_split( x, y, test_size=0.33, random_state=42)"
   ]
  },
  {
   "cell_type": "code",
   "execution_count": 12,
   "id": "ff4c0920",
   "metadata": {
    "execution": {
     "iopub.execute_input": "2023-03-06T18:42:06.284661Z",
     "iopub.status.busy": "2023-03-06T18:42:06.284216Z",
     "iopub.status.idle": "2023-03-06T18:42:06.372453Z",
     "shell.execute_reply": "2023-03-06T18:42:06.370529Z"
    },
    "papermill": {
     "duration": 0.102929,
     "end_time": "2023-03-06T18:42:06.378243",
     "exception": false,
     "start_time": "2023-03-06T18:42:06.275314",
     "status": "completed"
    },
    "tags": []
   },
   "outputs": [
    {
     "data": {
      "text/plain": [
       "LinearRegression()"
      ]
     },
     "execution_count": 12,
     "metadata": {},
     "output_type": "execute_result"
    }
   ],
   "source": [
    "regr = LinearRegression()\n",
    "\n",
    "regr.fit(x_train, y_train)"
   ]
  },
  {
   "cell_type": "code",
   "execution_count": 13,
   "id": "7b66e7a8",
   "metadata": {
    "execution": {
     "iopub.execute_input": "2023-03-06T18:42:06.413645Z",
     "iopub.status.busy": "2023-03-06T18:42:06.412680Z",
     "iopub.status.idle": "2023-03-06T18:42:06.428346Z",
     "shell.execute_reply": "2023-03-06T18:42:06.426482Z"
    },
    "papermill": {
     "duration": 0.038056,
     "end_time": "2023-03-06T18:42:06.433100",
     "exception": false,
     "start_time": "2023-03-06T18:42:06.395044",
     "status": "completed"
    },
    "tags": []
   },
   "outputs": [],
   "source": [
    "y_pred = regr.predict(x_test)\n"
   ]
  },
  {
   "cell_type": "code",
   "execution_count": 14,
   "id": "f97fabed",
   "metadata": {
    "execution": {
     "iopub.execute_input": "2023-03-06T18:42:06.467509Z",
     "iopub.status.busy": "2023-03-06T18:42:06.466688Z",
     "iopub.status.idle": "2023-03-06T18:42:06.477586Z",
     "shell.execute_reply": "2023-03-06T18:42:06.476135Z"
    },
    "papermill": {
     "duration": 0.033708,
     "end_time": "2023-03-06T18:42:06.482326",
     "exception": false,
     "start_time": "2023-03-06T18:42:06.448618",
     "status": "completed"
    },
    "tags": []
   },
   "outputs": [
    {
     "name": "stdout",
     "output_type": "stream",
     "text": [
      "0.8789582646460276\n"
     ]
    }
   ],
   "source": [
    "print(regr.score(x_test, y_test))"
   ]
  },
  {
   "cell_type": "markdown",
   "id": "7903cf08",
   "metadata": {
    "papermill": {
     "duration": 0.015161,
     "end_time": "2023-03-06T18:42:06.513313",
     "exception": false,
     "start_time": "2023-03-06T18:42:06.498152",
     "status": "completed"
    },
    "tags": []
   },
   "source": [
    "RMSE in prediction"
   ]
  },
  {
   "cell_type": "code",
   "execution_count": 15,
   "id": "f8bcc394",
   "metadata": {
    "execution": {
     "iopub.execute_input": "2023-03-06T18:42:06.547670Z",
     "iopub.status.busy": "2023-03-06T18:42:06.546847Z",
     "iopub.status.idle": "2023-03-06T18:42:06.557662Z",
     "shell.execute_reply": "2023-03-06T18:42:06.556325Z"
    },
    "papermill": {
     "duration": 0.035695,
     "end_time": "2023-03-06T18:42:06.564376",
     "exception": false,
     "start_time": "2023-03-06T18:42:06.528681",
     "status": "completed"
    },
    "tags": []
   },
   "outputs": [
    {
     "name": "stdout",
     "output_type": "stream",
     "text": [
      "29809.641899875387\n"
     ]
    }
   ],
   "source": [
    "MSE = mean_squared_error(y_test, y_pred)\n",
    " \n",
    "RMSE = math.sqrt(MSE)\n",
    "print(RMSE)"
   ]
  },
  {
   "cell_type": "code",
   "execution_count": null,
   "id": "fc9444f2",
   "metadata": {
    "papermill": {
     "duration": 0.013645,
     "end_time": "2023-03-06T18:42:06.594193",
     "exception": false,
     "start_time": "2023-03-06T18:42:06.580548",
     "status": "completed"
    },
    "tags": []
   },
   "outputs": [],
   "source": []
  }
 ],
 "metadata": {
  "kernelspec": {
   "display_name": "Python 3",
   "language": "python",
   "name": "python3"
  },
  "language_info": {
   "codemirror_mode": {
    "name": "ipython",
    "version": 3
   },
   "file_extension": ".py",
   "mimetype": "text/x-python",
   "name": "python",
   "nbconvert_exporter": "python",
   "pygments_lexer": "ipython3",
   "version": "3.7.12"
  },
  "papermill": {
   "default_parameters": {},
   "duration": 14.339515,
   "end_time": "2023-03-06T18:42:07.427038",
   "environment_variables": {},
   "exception": null,
   "input_path": "__notebook__.ipynb",
   "output_path": "__notebook__.ipynb",
   "parameters": {},
   "start_time": "2023-03-06T18:41:53.087523",
   "version": "2.4.0"
  }
 },
 "nbformat": 4,
 "nbformat_minor": 5
}
