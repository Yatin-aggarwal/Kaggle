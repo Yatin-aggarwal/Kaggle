{
 "cells": [
  {
   "cell_type": "code",
   "execution_count": 1,
   "id": "5a757f3d",
   "metadata": {
    "_cell_guid": "b1076dfc-b9ad-4769-8c92-a6c4dae69d19",
    "_uuid": "8f2839f25d086af736a60e9eeb907d3b93b6e0e5",
    "execution": {
     "iopub.execute_input": "2023-05-26T13:48:41.608984Z",
     "iopub.status.busy": "2023-05-26T13:48:41.608523Z",
     "iopub.status.idle": "2023-05-26T13:48:41.623352Z",
     "shell.execute_reply": "2023-05-26T13:48:41.622245Z"
    },
    "papermill": {
     "duration": 0.025684,
     "end_time": "2023-05-26T13:48:41.626044",
     "exception": false,
     "start_time": "2023-05-26T13:48:41.600360",
     "status": "completed"
    },
    "tags": []
   },
   "outputs": [
    {
     "name": "stdout",
     "output_type": "stream",
     "text": [
      "/kaggle/input/icr-identify-age-related-conditions/sample_submission.csv\n",
      "/kaggle/input/icr-identify-age-related-conditions/greeks.csv\n",
      "/kaggle/input/icr-identify-age-related-conditions/train.csv\n",
      "/kaggle/input/icr-identify-age-related-conditions/test.csv\n"
     ]
    }
   ],
   "source": [
    "# This Python 3 environment comes with many helpful analytics libraries installed\n",
    "# It is defined by the kaggle/python Docker image: https://github.com/kaggle/docker-python\n",
    "# For example, here's several helpful packages to load\n",
    "\n",
    "import numpy as np # linear algebra\n",
    "import pandas as pd # data processing, CSV file I/O (e.g. pd.read_csv)\n",
    "\n",
    "# Input data files are available in the read-only \"../input/\" directory\n",
    "# For example, running this (by clicking run or pressing Shift+Enter) will list all files under the input directory\n",
    "\n",
    "import os\n",
    "for dirname, _, filenames in os.walk('/kaggle/input'):\n",
    "    for filename in filenames:\n",
    "        print(os.path.join(dirname, filename))\n",
    "\n",
    "# You can write up to 20GB to the current directory (/kaggle/working/) that gets preserved as output when you create a version using \"Save & Run All\" \n",
    "# You can also write temporary files to /kaggle/temp/, but they won't be saved outside of the current session"
   ]
  },
  {
   "cell_type": "code",
   "execution_count": 2,
   "id": "677d780d",
   "metadata": {
    "execution": {
     "iopub.execute_input": "2023-05-26T13:48:41.640229Z",
     "iopub.status.busy": "2023-05-26T13:48:41.639594Z",
     "iopub.status.idle": "2023-05-26T13:48:41.709142Z",
     "shell.execute_reply": "2023-05-26T13:48:41.707937Z"
    },
    "papermill": {
     "duration": 0.080212,
     "end_time": "2023-05-26T13:48:41.712251",
     "exception": false,
     "start_time": "2023-05-26T13:48:41.632039",
     "status": "completed"
    },
    "tags": []
   },
   "outputs": [],
   "source": [
    "train = pd.read_csv(\"/kaggle/input/icr-identify-age-related-conditions/train.csv\",index_col=\"Id\")\n",
    "test = pd.read_csv(\"/kaggle/input/icr-identify-age-related-conditions/test.csv\",index_col=\"Id\")\n",
    "sample_sub = pd.read_csv(\"/kaggle/input/icr-identify-age-related-conditions/sample_submission.csv\",index_col=\"Id\")\n",
    "greek = pd.read_csv(\"/kaggle/input/icr-identify-age-related-conditions/greeks.csv\",index_col=\"Id\")"
   ]
  },
  {
   "cell_type": "code",
   "execution_count": 3,
   "id": "f1183b5b",
   "metadata": {
    "execution": {
     "iopub.execute_input": "2023-05-26T13:48:41.726211Z",
     "iopub.status.busy": "2023-05-26T13:48:41.725846Z",
     "iopub.status.idle": "2023-05-26T13:48:41.753048Z",
     "shell.execute_reply": "2023-05-26T13:48:41.751644Z"
    },
    "papermill": {
     "duration": 0.037667,
     "end_time": "2023-05-26T13:48:41.756174",
     "exception": false,
     "start_time": "2023-05-26T13:48:41.718507",
     "status": "completed"
    },
    "tags": []
   },
   "outputs": [
    {
     "name": "stdout",
     "output_type": "stream",
     "text": [
      "<class 'pandas.core.frame.DataFrame'>\n",
      "Index: 617 entries, 000ff2bfdfe9 to ffcca4ded3bb\n",
      "Data columns (total 57 columns):\n",
      " #   Column  Non-Null Count  Dtype  \n",
      "---  ------  --------------  -----  \n",
      " 0   AB      617 non-null    float64\n",
      " 1   AF      617 non-null    float64\n",
      " 2   AH      617 non-null    float64\n",
      " 3   AM      617 non-null    float64\n",
      " 4   AR      617 non-null    float64\n",
      " 5   AX      617 non-null    float64\n",
      " 6   AY      617 non-null    float64\n",
      " 7   AZ      617 non-null    float64\n",
      " 8   BC      617 non-null    float64\n",
      " 9   BD      617 non-null    float64\n",
      " 10  BN      617 non-null    float64\n",
      " 11  BP      617 non-null    float64\n",
      " 12  BQ      557 non-null    float64\n",
      " 13  BR      617 non-null    float64\n",
      " 14  BZ      617 non-null    float64\n",
      " 15  CB      615 non-null    float64\n",
      " 16  CC      614 non-null    float64\n",
      " 17  CD      617 non-null    float64\n",
      " 18  CF      617 non-null    float64\n",
      " 19  CH      617 non-null    float64\n",
      " 20  CL      617 non-null    float64\n",
      " 21  CR      617 non-null    float64\n",
      " 22  CS      617 non-null    float64\n",
      " 23  CU      617 non-null    float64\n",
      " 24  CW      617 non-null    float64\n",
      " 25  DA      617 non-null    float64\n",
      " 26  DE      617 non-null    float64\n",
      " 27  DF      617 non-null    float64\n",
      " 28  DH      617 non-null    float64\n",
      " 29  DI      617 non-null    float64\n",
      " 30  DL      617 non-null    float64\n",
      " 31  DN      617 non-null    float64\n",
      " 32  DU      616 non-null    float64\n",
      " 33  DV      617 non-null    float64\n",
      " 34  DY      617 non-null    float64\n",
      " 35  EB      617 non-null    float64\n",
      " 36  EE      617 non-null    float64\n",
      " 37  EG      617 non-null    float64\n",
      " 38  EH      617 non-null    float64\n",
      " 39  EJ      617 non-null    object \n",
      " 40  EL      557 non-null    float64\n",
      " 41  EP      617 non-null    float64\n",
      " 42  EU      617 non-null    float64\n",
      " 43  FC      616 non-null    float64\n",
      " 44  FD      617 non-null    float64\n",
      " 45  FE      617 non-null    float64\n",
      " 46  FI      617 non-null    float64\n",
      " 47  FL      616 non-null    float64\n",
      " 48  FR      617 non-null    float64\n",
      " 49  FS      615 non-null    float64\n",
      " 50  GB      617 non-null    float64\n",
      " 51  GE      617 non-null    float64\n",
      " 52  GF      617 non-null    float64\n",
      " 53  GH      617 non-null    float64\n",
      " 54  GI      617 non-null    float64\n",
      " 55  GL      616 non-null    float64\n",
      " 56  Class   617 non-null    int64  \n",
      "dtypes: float64(55), int64(1), object(1)\n",
      "memory usage: 279.6+ KB\n"
     ]
    }
   ],
   "source": [
    "train.info()"
   ]
  },
  {
   "cell_type": "code",
   "execution_count": 4,
   "id": "9ba8dca5",
   "metadata": {
    "execution": {
     "iopub.execute_input": "2023-05-26T13:48:41.770340Z",
     "iopub.status.busy": "2023-05-26T13:48:41.769529Z",
     "iopub.status.idle": "2023-05-26T13:48:41.777935Z",
     "shell.execute_reply": "2023-05-26T13:48:41.776797Z"
    },
    "papermill": {
     "duration": 0.018371,
     "end_time": "2023-05-26T13:48:41.780599",
     "exception": false,
     "start_time": "2023-05-26T13:48:41.762228",
     "status": "completed"
    },
    "tags": []
   },
   "outputs": [],
   "source": [
    "train['EJ'] = train['EJ'].replace({'A': 0, 'B': 1})\n",
    "test['EJ'] = test['EJ'].replace({'A': 0, 'B': 1})"
   ]
  },
  {
   "cell_type": "code",
   "execution_count": 5,
   "id": "9c11353f",
   "metadata": {
    "execution": {
     "iopub.execute_input": "2023-05-26T13:48:41.796074Z",
     "iopub.status.busy": "2023-05-26T13:48:41.795218Z",
     "iopub.status.idle": "2023-05-26T13:48:41.801470Z",
     "shell.execute_reply": "2023-05-26T13:48:41.800582Z"
    },
    "papermill": {
     "duration": 0.016482,
     "end_time": "2023-05-26T13:48:41.803742",
     "exception": false,
     "start_time": "2023-05-26T13:48:41.787260",
     "status": "completed"
    },
    "tags": []
   },
   "outputs": [],
   "source": [
    "train = train.dropna(axis = 0)"
   ]
  },
  {
   "cell_type": "code",
   "execution_count": 6,
   "id": "54f625e0",
   "metadata": {
    "execution": {
     "iopub.execute_input": "2023-05-26T13:48:41.817832Z",
     "iopub.status.busy": "2023-05-26T13:48:41.817401Z",
     "iopub.status.idle": "2023-05-26T13:48:41.835191Z",
     "shell.execute_reply": "2023-05-26T13:48:41.833005Z"
    },
    "papermill": {
     "duration": 0.027704,
     "end_time": "2023-05-26T13:48:41.837578",
     "exception": false,
     "start_time": "2023-05-26T13:48:41.809874",
     "status": "completed"
    },
    "tags": []
   },
   "outputs": [
    {
     "name": "stdout",
     "output_type": "stream",
     "text": [
      "<class 'pandas.core.frame.DataFrame'>\n",
      "Index: 548 entries, 000ff2bfdfe9 to ffcca4ded3bb\n",
      "Data columns (total 57 columns):\n",
      " #   Column  Non-Null Count  Dtype  \n",
      "---  ------  --------------  -----  \n",
      " 0   AB      548 non-null    float64\n",
      " 1   AF      548 non-null    float64\n",
      " 2   AH      548 non-null    float64\n",
      " 3   AM      548 non-null    float64\n",
      " 4   AR      548 non-null    float64\n",
      " 5   AX      548 non-null    float64\n",
      " 6   AY      548 non-null    float64\n",
      " 7   AZ      548 non-null    float64\n",
      " 8   BC      548 non-null    float64\n",
      " 9   BD      548 non-null    float64\n",
      " 10  BN      548 non-null    float64\n",
      " 11  BP      548 non-null    float64\n",
      " 12  BQ      548 non-null    float64\n",
      " 13  BR      548 non-null    float64\n",
      " 14  BZ      548 non-null    float64\n",
      " 15  CB      548 non-null    float64\n",
      " 16  CC      548 non-null    float64\n",
      " 17  CD      548 non-null    float64\n",
      " 18  CF      548 non-null    float64\n",
      " 19  CH      548 non-null    float64\n",
      " 20  CL      548 non-null    float64\n",
      " 21  CR      548 non-null    float64\n",
      " 22  CS      548 non-null    float64\n",
      " 23  CU      548 non-null    float64\n",
      " 24  CW      548 non-null    float64\n",
      " 25  DA      548 non-null    float64\n",
      " 26  DE      548 non-null    float64\n",
      " 27  DF      548 non-null    float64\n",
      " 28  DH      548 non-null    float64\n",
      " 29  DI      548 non-null    float64\n",
      " 30  DL      548 non-null    float64\n",
      " 31  DN      548 non-null    float64\n",
      " 32  DU      548 non-null    float64\n",
      " 33  DV      548 non-null    float64\n",
      " 34  DY      548 non-null    float64\n",
      " 35  EB      548 non-null    float64\n",
      " 36  EE      548 non-null    float64\n",
      " 37  EG      548 non-null    float64\n",
      " 38  EH      548 non-null    float64\n",
      " 39  EJ      548 non-null    int64  \n",
      " 40  EL      548 non-null    float64\n",
      " 41  EP      548 non-null    float64\n",
      " 42  EU      548 non-null    float64\n",
      " 43  FC      548 non-null    float64\n",
      " 44  FD      548 non-null    float64\n",
      " 45  FE      548 non-null    float64\n",
      " 46  FI      548 non-null    float64\n",
      " 47  FL      548 non-null    float64\n",
      " 48  FR      548 non-null    float64\n",
      " 49  FS      548 non-null    float64\n",
      " 50  GB      548 non-null    float64\n",
      " 51  GE      548 non-null    float64\n",
      " 52  GF      548 non-null    float64\n",
      " 53  GH      548 non-null    float64\n",
      " 54  GI      548 non-null    float64\n",
      " 55  GL      548 non-null    float64\n",
      " 56  Class   548 non-null    int64  \n",
      "dtypes: float64(55), int64(2)\n",
      "memory usage: 248.3+ KB\n"
     ]
    }
   ],
   "source": [
    "train.info()"
   ]
  },
  {
   "cell_type": "code",
   "execution_count": 7,
   "id": "893307ca",
   "metadata": {
    "execution": {
     "iopub.execute_input": "2023-05-26T13:48:41.853721Z",
     "iopub.status.busy": "2023-05-26T13:48:41.853053Z",
     "iopub.status.idle": "2023-05-26T13:48:43.253303Z",
     "shell.execute_reply": "2023-05-26T13:48:43.251855Z"
    },
    "papermill": {
     "duration": 1.410722,
     "end_time": "2023-05-26T13:48:43.256142",
     "exception": false,
     "start_time": "2023-05-26T13:48:41.845420",
     "status": "completed"
    },
    "tags": []
   },
   "outputs": [],
   "source": [
    "from sklearn import preprocessing\n",
    "x = preprocessing.normalize(train.drop(\"Class\",axis =1))\n",
    "test = preprocessing.normalize(test)"
   ]
  },
  {
   "cell_type": "code",
   "execution_count": 8,
   "id": "089ab7bc",
   "metadata": {
    "execution": {
     "iopub.execute_input": "2023-05-26T13:48:43.270795Z",
     "iopub.status.busy": "2023-05-26T13:48:43.270362Z",
     "iopub.status.idle": "2023-05-26T13:48:43.387346Z",
     "shell.execute_reply": "2023-05-26T13:48:43.386220Z"
    },
    "papermill": {
     "duration": 0.127455,
     "end_time": "2023-05-26T13:48:43.389961",
     "exception": false,
     "start_time": "2023-05-26T13:48:43.262506",
     "status": "completed"
    },
    "tags": []
   },
   "outputs": [],
   "source": [
    "from sklearn.model_selection import train_test_split\n",
    "x, x_cv, y, y_cv = train_test_split(x, train[\"Class\"], test_size=0.33, random_state=42)"
   ]
  },
  {
   "cell_type": "markdown",
   "id": "a080742f",
   "metadata": {
    "papermill": {
     "duration": 0.005856,
     "end_time": "2023-05-26T13:48:43.402200",
     "exception": false,
     "start_time": "2023-05-26T13:48:43.396344",
     "status": "completed"
    },
    "tags": []
   },
   "source": [
    "Logistic regression"
   ]
  },
  {
   "cell_type": "code",
   "execution_count": 9,
   "id": "1126d2e7",
   "metadata": {
    "execution": {
     "iopub.execute_input": "2023-05-26T13:48:43.416257Z",
     "iopub.status.busy": "2023-05-26T13:48:43.415823Z",
     "iopub.status.idle": "2023-05-26T13:48:43.549231Z",
     "shell.execute_reply": "2023-05-26T13:48:43.547669Z"
    },
    "papermill": {
     "duration": 0.145541,
     "end_time": "2023-05-26T13:48:43.553851",
     "exception": false,
     "start_time": "2023-05-26T13:48:43.408310",
     "status": "completed"
    },
    "tags": []
   },
   "outputs": [],
   "source": [
    "from sklearn.linear_model import LogisticRegression\n",
    "model_1 = LogisticRegression(random_state=42,max_iter=1000).fit(x, y)"
   ]
  },
  {
   "cell_type": "code",
   "execution_count": 10,
   "id": "e4de6b95",
   "metadata": {
    "execution": {
     "iopub.execute_input": "2023-05-26T13:48:43.582719Z",
     "iopub.status.busy": "2023-05-26T13:48:43.580871Z",
     "iopub.status.idle": "2023-05-26T13:48:44.273905Z",
     "shell.execute_reply": "2023-05-26T13:48:44.272558Z"
    },
    "papermill": {
     "duration": 0.710275,
     "end_time": "2023-05-26T13:48:44.276745",
     "exception": false,
     "start_time": "2023-05-26T13:48:43.566470",
     "status": "completed"
    },
    "tags": []
   },
   "outputs": [
    {
     "data": {
      "text/html": [
       "<style>#sk-container-id-1 {color: black;background-color: white;}#sk-container-id-1 pre{padding: 0;}#sk-container-id-1 div.sk-toggleable {background-color: white;}#sk-container-id-1 label.sk-toggleable__label {cursor: pointer;display: block;width: 100%;margin-bottom: 0;padding: 0.3em;box-sizing: border-box;text-align: center;}#sk-container-id-1 label.sk-toggleable__label-arrow:before {content: \"▸\";float: left;margin-right: 0.25em;color: #696969;}#sk-container-id-1 label.sk-toggleable__label-arrow:hover:before {color: black;}#sk-container-id-1 div.sk-estimator:hover label.sk-toggleable__label-arrow:before {color: black;}#sk-container-id-1 div.sk-toggleable__content {max-height: 0;max-width: 0;overflow: hidden;text-align: left;background-color: #f0f8ff;}#sk-container-id-1 div.sk-toggleable__content pre {margin: 0.2em;color: black;border-radius: 0.25em;background-color: #f0f8ff;}#sk-container-id-1 input.sk-toggleable__control:checked~div.sk-toggleable__content {max-height: 200px;max-width: 100%;overflow: auto;}#sk-container-id-1 input.sk-toggleable__control:checked~label.sk-toggleable__label-arrow:before {content: \"▾\";}#sk-container-id-1 div.sk-estimator input.sk-toggleable__control:checked~label.sk-toggleable__label {background-color: #d4ebff;}#sk-container-id-1 div.sk-label input.sk-toggleable__control:checked~label.sk-toggleable__label {background-color: #d4ebff;}#sk-container-id-1 input.sk-hidden--visually {border: 0;clip: rect(1px 1px 1px 1px);clip: rect(1px, 1px, 1px, 1px);height: 1px;margin: -1px;overflow: hidden;padding: 0;position: absolute;width: 1px;}#sk-container-id-1 div.sk-estimator {font-family: monospace;background-color: #f0f8ff;border: 1px dotted black;border-radius: 0.25em;box-sizing: border-box;margin-bottom: 0.5em;}#sk-container-id-1 div.sk-estimator:hover {background-color: #d4ebff;}#sk-container-id-1 div.sk-parallel-item::after {content: \"\";width: 100%;border-bottom: 1px solid gray;flex-grow: 1;}#sk-container-id-1 div.sk-label:hover label.sk-toggleable__label {background-color: #d4ebff;}#sk-container-id-1 div.sk-serial::before {content: \"\";position: absolute;border-left: 1px solid gray;box-sizing: border-box;top: 0;bottom: 0;left: 50%;z-index: 0;}#sk-container-id-1 div.sk-serial {display: flex;flex-direction: column;align-items: center;background-color: white;padding-right: 0.2em;padding-left: 0.2em;position: relative;}#sk-container-id-1 div.sk-item {position: relative;z-index: 1;}#sk-container-id-1 div.sk-parallel {display: flex;align-items: stretch;justify-content: center;background-color: white;position: relative;}#sk-container-id-1 div.sk-item::before, #sk-container-id-1 div.sk-parallel-item::before {content: \"\";position: absolute;border-left: 1px solid gray;box-sizing: border-box;top: 0;bottom: 0;left: 50%;z-index: -1;}#sk-container-id-1 div.sk-parallel-item {display: flex;flex-direction: column;z-index: 1;position: relative;background-color: white;}#sk-container-id-1 div.sk-parallel-item:first-child::after {align-self: flex-end;width: 50%;}#sk-container-id-1 div.sk-parallel-item:last-child::after {align-self: flex-start;width: 50%;}#sk-container-id-1 div.sk-parallel-item:only-child::after {width: 0;}#sk-container-id-1 div.sk-dashed-wrapped {border: 1px dashed gray;margin: 0 0.4em 0.5em 0.4em;box-sizing: border-box;padding-bottom: 0.4em;background-color: white;}#sk-container-id-1 div.sk-label label {font-family: monospace;font-weight: bold;display: inline-block;line-height: 1.2em;}#sk-container-id-1 div.sk-label-container {text-align: center;}#sk-container-id-1 div.sk-container {/* jupyter's `normalize.less` sets `[hidden] { display: none; }` but bootstrap.min.css set `[hidden] { display: none !important; }` so we also need the `!important` here to be able to override the default hidden behavior on the sphinx rendered scikit-learn.org. See: https://github.com/scikit-learn/scikit-learn/issues/21755 */display: inline-block !important;position: relative;}#sk-container-id-1 div.sk-text-repr-fallback {display: none;}</style><div id=\"sk-container-id-1\" class=\"sk-top-container\"><div class=\"sk-text-repr-fallback\"><pre>RandomForestClassifier()</pre><b>In a Jupyter environment, please rerun this cell to show the HTML representation or trust the notebook. <br />On GitHub, the HTML representation is unable to render, please try loading this page with nbviewer.org.</b></div><div class=\"sk-container\" hidden><div class=\"sk-item\"><div class=\"sk-estimator sk-toggleable\"><input class=\"sk-toggleable__control sk-hidden--visually\" id=\"sk-estimator-id-1\" type=\"checkbox\" checked><label for=\"sk-estimator-id-1\" class=\"sk-toggleable__label sk-toggleable__label-arrow\">RandomForestClassifier</label><div class=\"sk-toggleable__content\"><pre>RandomForestClassifier()</pre></div></div></div></div></div>"
      ],
      "text/plain": [
       "RandomForestClassifier()"
      ]
     },
     "execution_count": 10,
     "metadata": {},
     "output_type": "execute_result"
    }
   ],
   "source": [
    "from sklearn.ensemble import RandomForestClassifier \n",
    "model_2 = RandomForestClassifier(n_estimators = 100) \n",
    "model_2 .fit(x,y)"
   ]
  },
  {
   "cell_type": "code",
   "execution_count": 11,
   "id": "28f7c98f",
   "metadata": {
    "execution": {
     "iopub.execute_input": "2023-05-26T13:48:44.291456Z",
     "iopub.status.busy": "2023-05-26T13:48:44.291043Z",
     "iopub.status.idle": "2023-05-26T13:48:44.633196Z",
     "shell.execute_reply": "2023-05-26T13:48:44.632231Z"
    },
    "papermill": {
     "duration": 0.35273,
     "end_time": "2023-05-26T13:48:44.635953",
     "exception": false,
     "start_time": "2023-05-26T13:48:44.283223",
     "status": "completed"
    },
    "tags": []
   },
   "outputs": [
    {
     "data": {
      "text/html": [
       "<style>#sk-container-id-2 {color: black;background-color: white;}#sk-container-id-2 pre{padding: 0;}#sk-container-id-2 div.sk-toggleable {background-color: white;}#sk-container-id-2 label.sk-toggleable__label {cursor: pointer;display: block;width: 100%;margin-bottom: 0;padding: 0.3em;box-sizing: border-box;text-align: center;}#sk-container-id-2 label.sk-toggleable__label-arrow:before {content: \"▸\";float: left;margin-right: 0.25em;color: #696969;}#sk-container-id-2 label.sk-toggleable__label-arrow:hover:before {color: black;}#sk-container-id-2 div.sk-estimator:hover label.sk-toggleable__label-arrow:before {color: black;}#sk-container-id-2 div.sk-toggleable__content {max-height: 0;max-width: 0;overflow: hidden;text-align: left;background-color: #f0f8ff;}#sk-container-id-2 div.sk-toggleable__content pre {margin: 0.2em;color: black;border-radius: 0.25em;background-color: #f0f8ff;}#sk-container-id-2 input.sk-toggleable__control:checked~div.sk-toggleable__content {max-height: 200px;max-width: 100%;overflow: auto;}#sk-container-id-2 input.sk-toggleable__control:checked~label.sk-toggleable__label-arrow:before {content: \"▾\";}#sk-container-id-2 div.sk-estimator input.sk-toggleable__control:checked~label.sk-toggleable__label {background-color: #d4ebff;}#sk-container-id-2 div.sk-label input.sk-toggleable__control:checked~label.sk-toggleable__label {background-color: #d4ebff;}#sk-container-id-2 input.sk-hidden--visually {border: 0;clip: rect(1px 1px 1px 1px);clip: rect(1px, 1px, 1px, 1px);height: 1px;margin: -1px;overflow: hidden;padding: 0;position: absolute;width: 1px;}#sk-container-id-2 div.sk-estimator {font-family: monospace;background-color: #f0f8ff;border: 1px dotted black;border-radius: 0.25em;box-sizing: border-box;margin-bottom: 0.5em;}#sk-container-id-2 div.sk-estimator:hover {background-color: #d4ebff;}#sk-container-id-2 div.sk-parallel-item::after {content: \"\";width: 100%;border-bottom: 1px solid gray;flex-grow: 1;}#sk-container-id-2 div.sk-label:hover label.sk-toggleable__label {background-color: #d4ebff;}#sk-container-id-2 div.sk-serial::before {content: \"\";position: absolute;border-left: 1px solid gray;box-sizing: border-box;top: 0;bottom: 0;left: 50%;z-index: 0;}#sk-container-id-2 div.sk-serial {display: flex;flex-direction: column;align-items: center;background-color: white;padding-right: 0.2em;padding-left: 0.2em;position: relative;}#sk-container-id-2 div.sk-item {position: relative;z-index: 1;}#sk-container-id-2 div.sk-parallel {display: flex;align-items: stretch;justify-content: center;background-color: white;position: relative;}#sk-container-id-2 div.sk-item::before, #sk-container-id-2 div.sk-parallel-item::before {content: \"\";position: absolute;border-left: 1px solid gray;box-sizing: border-box;top: 0;bottom: 0;left: 50%;z-index: -1;}#sk-container-id-2 div.sk-parallel-item {display: flex;flex-direction: column;z-index: 1;position: relative;background-color: white;}#sk-container-id-2 div.sk-parallel-item:first-child::after {align-self: flex-end;width: 50%;}#sk-container-id-2 div.sk-parallel-item:last-child::after {align-self: flex-start;width: 50%;}#sk-container-id-2 div.sk-parallel-item:only-child::after {width: 0;}#sk-container-id-2 div.sk-dashed-wrapped {border: 1px dashed gray;margin: 0 0.4em 0.5em 0.4em;box-sizing: border-box;padding-bottom: 0.4em;background-color: white;}#sk-container-id-2 div.sk-label label {font-family: monospace;font-weight: bold;display: inline-block;line-height: 1.2em;}#sk-container-id-2 div.sk-label-container {text-align: center;}#sk-container-id-2 div.sk-container {/* jupyter's `normalize.less` sets `[hidden] { display: none; }` but bootstrap.min.css set `[hidden] { display: none !important; }` so we also need the `!important` here to be able to override the default hidden behavior on the sphinx rendered scikit-learn.org. See: https://github.com/scikit-learn/scikit-learn/issues/21755 */display: inline-block !important;position: relative;}#sk-container-id-2 div.sk-text-repr-fallback {display: none;}</style><div id=\"sk-container-id-2\" class=\"sk-top-container\"><div class=\"sk-text-repr-fallback\"><pre>XGBClassifier(base_score=None, booster=None, callbacks=None,\n",
       "              colsample_bylevel=None, colsample_bynode=None,\n",
       "              colsample_bytree=None, early_stopping_rounds=None,\n",
       "              enable_categorical=False, eval_metric=None, feature_types=None,\n",
       "              gamma=None, gpu_id=None, grow_policy=None, importance_type=None,\n",
       "              interaction_constraints=None, learning_rate=None, max_bin=None,\n",
       "              max_cat_threshold=None, max_cat_to_onehot=None,\n",
       "              max_delta_step=None, max_depth=None, max_leaves=None,\n",
       "              min_child_weight=None, missing=nan, monotone_constraints=None,\n",
       "              n_estimators=100, n_jobs=None, num_parallel_tree=None,\n",
       "              predictor=None, random_state=None, ...)</pre><b>In a Jupyter environment, please rerun this cell to show the HTML representation or trust the notebook. <br />On GitHub, the HTML representation is unable to render, please try loading this page with nbviewer.org.</b></div><div class=\"sk-container\" hidden><div class=\"sk-item\"><div class=\"sk-estimator sk-toggleable\"><input class=\"sk-toggleable__control sk-hidden--visually\" id=\"sk-estimator-id-2\" type=\"checkbox\" checked><label for=\"sk-estimator-id-2\" class=\"sk-toggleable__label sk-toggleable__label-arrow\">XGBClassifier</label><div class=\"sk-toggleable__content\"><pre>XGBClassifier(base_score=None, booster=None, callbacks=None,\n",
       "              colsample_bylevel=None, colsample_bynode=None,\n",
       "              colsample_bytree=None, early_stopping_rounds=None,\n",
       "              enable_categorical=False, eval_metric=None, feature_types=None,\n",
       "              gamma=None, gpu_id=None, grow_policy=None, importance_type=None,\n",
       "              interaction_constraints=None, learning_rate=None, max_bin=None,\n",
       "              max_cat_threshold=None, max_cat_to_onehot=None,\n",
       "              max_delta_step=None, max_depth=None, max_leaves=None,\n",
       "              min_child_weight=None, missing=nan, monotone_constraints=None,\n",
       "              n_estimators=100, n_jobs=None, num_parallel_tree=None,\n",
       "              predictor=None, random_state=None, ...)</pre></div></div></div></div></div>"
      ],
      "text/plain": [
       "XGBClassifier(base_score=None, booster=None, callbacks=None,\n",
       "              colsample_bylevel=None, colsample_bynode=None,\n",
       "              colsample_bytree=None, early_stopping_rounds=None,\n",
       "              enable_categorical=False, eval_metric=None, feature_types=None,\n",
       "              gamma=None, gpu_id=None, grow_policy=None, importance_type=None,\n",
       "              interaction_constraints=None, learning_rate=None, max_bin=None,\n",
       "              max_cat_threshold=None, max_cat_to_onehot=None,\n",
       "              max_delta_step=None, max_depth=None, max_leaves=None,\n",
       "              min_child_weight=None, missing=nan, monotone_constraints=None,\n",
       "              n_estimators=100, n_jobs=None, num_parallel_tree=None,\n",
       "              predictor=None, random_state=None, ...)"
      ]
     },
     "execution_count": 11,
     "metadata": {},
     "output_type": "execute_result"
    }
   ],
   "source": [
    "from xgboost import XGBClassifier\n",
    "model = XGBClassifier()\n",
    "model.fit(x,y)"
   ]
  },
  {
   "cell_type": "code",
   "execution_count": 12,
   "id": "80cde441",
   "metadata": {
    "execution": {
     "iopub.execute_input": "2023-05-26T13:48:44.651880Z",
     "iopub.status.busy": "2023-05-26T13:48:44.651494Z",
     "iopub.status.idle": "2023-05-26T13:48:44.734717Z",
     "shell.execute_reply": "2023-05-26T13:48:44.733618Z"
    },
    "papermill": {
     "duration": 0.094355,
     "end_time": "2023-05-26T13:48:44.737663",
     "exception": false,
     "start_time": "2023-05-26T13:48:44.643308",
     "status": "completed"
    },
    "tags": []
   },
   "outputs": [],
   "source": [
    "sol_1 = model_1.predict(x_cv)\n",
    "sol_2 = model_2.predict(x_cv)\n",
    "sol_3 = model.predict(x_cv)"
   ]
  },
  {
   "cell_type": "code",
   "execution_count": 13,
   "id": "3d56a832",
   "metadata": {
    "execution": {
     "iopub.execute_input": "2023-05-26T13:48:44.775855Z",
     "iopub.status.busy": "2023-05-26T13:48:44.775114Z",
     "iopub.status.idle": "2023-05-26T13:48:44.785217Z",
     "shell.execute_reply": "2023-05-26T13:48:44.784381Z"
    },
    "papermill": {
     "duration": 0.028145,
     "end_time": "2023-05-26T13:48:44.787423",
     "exception": false,
     "start_time": "2023-05-26T13:48:44.759278",
     "status": "completed"
    },
    "tags": []
   },
   "outputs": [
    {
     "name": "stdout",
     "output_type": "stream",
     "text": [
      "0.8176795580110497\n",
      "0.8784530386740331\n",
      "0.8729281767955801\n"
     ]
    }
   ],
   "source": [
    "from sklearn.metrics import accuracy_score\n",
    "print(accuracy_score(sol_1, y_cv, normalize=True))\n",
    "print(accuracy_score(sol_3, y_cv, normalize=True))\n",
    "print(accuracy_score(sol_2, y_cv, normalize=True))"
   ]
  },
  {
   "cell_type": "code",
   "execution_count": 14,
   "id": "1ec52bb7",
   "metadata": {
    "execution": {
     "iopub.execute_input": "2023-05-26T13:48:44.804741Z",
     "iopub.status.busy": "2023-05-26T13:48:44.802607Z",
     "iopub.status.idle": "2023-05-26T13:48:44.816630Z",
     "shell.execute_reply": "2023-05-26T13:48:44.815432Z"
    },
    "papermill": {
     "duration": 0.024897,
     "end_time": "2023-05-26T13:48:44.819248",
     "exception": false,
     "start_time": "2023-05-26T13:48:44.794351",
     "status": "completed"
    },
    "tags": []
   },
   "outputs": [],
   "source": [
    "submit=pd.read_csv(\"/kaggle/input/icr-identify-age-related-conditions/test.csv\",index_col=\"Id\")\n",
    "submit=submit.drop(submit[:],axis =1)"
   ]
  },
  {
   "cell_type": "code",
   "execution_count": 15,
   "id": "e1e5d046",
   "metadata": {
    "execution": {
     "iopub.execute_input": "2023-05-26T13:48:44.834831Z",
     "iopub.status.busy": "2023-05-26T13:48:44.834411Z",
     "iopub.status.idle": "2023-05-26T13:48:44.871735Z",
     "shell.execute_reply": "2023-05-26T13:48:44.870564Z"
    },
    "papermill": {
     "duration": 0.048423,
     "end_time": "2023-05-26T13:48:44.874562",
     "exception": false,
     "start_time": "2023-05-26T13:48:44.826139",
     "status": "completed"
    },
    "tags": []
   },
   "outputs": [],
   "source": [
    "\n",
    "submit[\"class_0\"]=1-model_2.predict(test)\n",
    "submit[\"class_1\"]=model_2.predict(test)\n",
    "submit.to_csv('submission.csv',index=False)"
   ]
  }
 ],
 "metadata": {
  "kernelspec": {
   "display_name": "Python 3",
   "language": "python",
   "name": "python3"
  },
  "language_info": {
   "codemirror_mode": {
    "name": "ipython",
    "version": 3
   },
   "file_extension": ".py",
   "mimetype": "text/x-python",
   "name": "python",
   "nbconvert_exporter": "python",
   "pygments_lexer": "ipython3",
   "version": "3.10.10"
  },
  "papermill": {
   "default_parameters": {},
   "duration": 16.801472,
   "end_time": "2023-05-26T13:48:45.904638",
   "environment_variables": {},
   "exception": null,
   "input_path": "__notebook__.ipynb",
   "output_path": "__notebook__.ipynb",
   "parameters": {},
   "start_time": "2023-05-26T13:48:29.103166",
   "version": "2.4.0"
  }
 },
 "nbformat": 4,
 "nbformat_minor": 5
}
