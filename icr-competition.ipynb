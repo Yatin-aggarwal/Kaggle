{
 "cells": [
  {
   "cell_type": "code",
   "execution_count": 1,
   "id": "852e0f07",
   "metadata": {
    "_cell_guid": "b1076dfc-b9ad-4769-8c92-a6c4dae69d19",
    "_uuid": "8f2839f25d086af736a60e9eeb907d3b93b6e0e5",
    "execution": {
     "iopub.execute_input": "2023-05-26T13:47:53.275529Z",
     "iopub.status.busy": "2023-05-26T13:47:53.275119Z",
     "iopub.status.idle": "2023-05-26T13:47:53.289669Z",
     "shell.execute_reply": "2023-05-26T13:47:53.288478Z"
    },
    "papermill": {
     "duration": 0.025714,
     "end_time": "2023-05-26T13:47:53.292476",
     "exception": false,
     "start_time": "2023-05-26T13:47:53.266762",
     "status": "completed"
    },
    "tags": []
   },
   "outputs": [
    {
     "name": "stdout",
     "output_type": "stream",
     "text": [
      "/kaggle/input/icr-identify-age-related-conditions/sample_submission.csv\n",
      "/kaggle/input/icr-identify-age-related-conditions/greeks.csv\n",
      "/kaggle/input/icr-identify-age-related-conditions/train.csv\n",
      "/kaggle/input/icr-identify-age-related-conditions/test.csv\n"
     ]
    }
   ],
   "source": [
    "# This Python 3 environment comes with many helpful analytics libraries installed\n",
    "# It is defined by the kaggle/python Docker image: https://github.com/kaggle/docker-python\n",
    "# For example, here's several helpful packages to load\n",
    "\n",
    "import numpy as np # linear algebra\n",
    "import pandas as pd # data processing, CSV file I/O (e.g. pd.read_csv)\n",
    "\n",
    "# Input data files are available in the read-only \"../input/\" directory\n",
    "# For example, running this (by clicking run or pressing Shift+Enter) will list all files under the input directory\n",
    "\n",
    "import os\n",
    "for dirname, _, filenames in os.walk('/kaggle/input'):\n",
    "    for filename in filenames:\n",
    "        print(os.path.join(dirname, filename))\n",
    "\n",
    "# You can write up to 20GB to the current directory (/kaggle/working/) that gets preserved as output when you create a version using \"Save & Run All\" \n",
    "# You can also write temporary files to /kaggle/temp/, but they won't be saved outside of the current session"
   ]
  },
  {
   "cell_type": "code",
   "execution_count": 2,
   "id": "e82c587b",
   "metadata": {
    "execution": {
     "iopub.execute_input": "2023-05-26T13:47:53.306792Z",
     "iopub.status.busy": "2023-05-26T13:47:53.305825Z",
     "iopub.status.idle": "2023-05-26T13:47:53.382270Z",
     "shell.execute_reply": "2023-05-26T13:47:53.381218Z"
    },
    "papermill": {
     "duration": 0.086689,
     "end_time": "2023-05-26T13:47:53.385352",
     "exception": false,
     "start_time": "2023-05-26T13:47:53.298663",
     "status": "completed"
    },
    "tags": []
   },
   "outputs": [],
   "source": [
    "train = pd.read_csv(\"/kaggle/input/icr-identify-age-related-conditions/train.csv\",index_col=\"Id\")\n",
    "test = pd.read_csv(\"/kaggle/input/icr-identify-age-related-conditions/test.csv\",index_col=\"Id\")\n",
    "sample_sub = pd.read_csv(\"/kaggle/input/icr-identify-age-related-conditions/sample_submission.csv\",index_col=\"Id\")\n",
    "greek = pd.read_csv(\"/kaggle/input/icr-identify-age-related-conditions/greeks.csv\",index_col=\"Id\")"
   ]
  },
  {
   "cell_type": "code",
   "execution_count": 3,
   "id": "bcd40368",
   "metadata": {
    "execution": {
     "iopub.execute_input": "2023-05-26T13:47:53.400401Z",
     "iopub.status.busy": "2023-05-26T13:47:53.399553Z",
     "iopub.status.idle": "2023-05-26T13:47:53.428282Z",
     "shell.execute_reply": "2023-05-26T13:47:53.427080Z"
    },
    "papermill": {
     "duration": 0.039233,
     "end_time": "2023-05-26T13:47:53.431274",
     "exception": false,
     "start_time": "2023-05-26T13:47:53.392041",
     "status": "completed"
    },
    "tags": []
   },
   "outputs": [
    {
     "name": "stdout",
     "output_type": "stream",
     "text": [
      "<class 'pandas.core.frame.DataFrame'>\n",
      "Index: 617 entries, 000ff2bfdfe9 to ffcca4ded3bb\n",
      "Data columns (total 57 columns):\n",
      " #   Column  Non-Null Count  Dtype  \n",
      "---  ------  --------------  -----  \n",
      " 0   AB      617 non-null    float64\n",
      " 1   AF      617 non-null    float64\n",
      " 2   AH      617 non-null    float64\n",
      " 3   AM      617 non-null    float64\n",
      " 4   AR      617 non-null    float64\n",
      " 5   AX      617 non-null    float64\n",
      " 6   AY      617 non-null    float64\n",
      " 7   AZ      617 non-null    float64\n",
      " 8   BC      617 non-null    float64\n",
      " 9   BD      617 non-null    float64\n",
      " 10  BN      617 non-null    float64\n",
      " 11  BP      617 non-null    float64\n",
      " 12  BQ      557 non-null    float64\n",
      " 13  BR      617 non-null    float64\n",
      " 14  BZ      617 non-null    float64\n",
      " 15  CB      615 non-null    float64\n",
      " 16  CC      614 non-null    float64\n",
      " 17  CD      617 non-null    float64\n",
      " 18  CF      617 non-null    float64\n",
      " 19  CH      617 non-null    float64\n",
      " 20  CL      617 non-null    float64\n",
      " 21  CR      617 non-null    float64\n",
      " 22  CS      617 non-null    float64\n",
      " 23  CU      617 non-null    float64\n",
      " 24  CW      617 non-null    float64\n",
      " 25  DA      617 non-null    float64\n",
      " 26  DE      617 non-null    float64\n",
      " 27  DF      617 non-null    float64\n",
      " 28  DH      617 non-null    float64\n",
      " 29  DI      617 non-null    float64\n",
      " 30  DL      617 non-null    float64\n",
      " 31  DN      617 non-null    float64\n",
      " 32  DU      616 non-null    float64\n",
      " 33  DV      617 non-null    float64\n",
      " 34  DY      617 non-null    float64\n",
      " 35  EB      617 non-null    float64\n",
      " 36  EE      617 non-null    float64\n",
      " 37  EG      617 non-null    float64\n",
      " 38  EH      617 non-null    float64\n",
      " 39  EJ      617 non-null    object \n",
      " 40  EL      557 non-null    float64\n",
      " 41  EP      617 non-null    float64\n",
      " 42  EU      617 non-null    float64\n",
      " 43  FC      616 non-null    float64\n",
      " 44  FD      617 non-null    float64\n",
      " 45  FE      617 non-null    float64\n",
      " 46  FI      617 non-null    float64\n",
      " 47  FL      616 non-null    float64\n",
      " 48  FR      617 non-null    float64\n",
      " 49  FS      615 non-null    float64\n",
      " 50  GB      617 non-null    float64\n",
      " 51  GE      617 non-null    float64\n",
      " 52  GF      617 non-null    float64\n",
      " 53  GH      617 non-null    float64\n",
      " 54  GI      617 non-null    float64\n",
      " 55  GL      616 non-null    float64\n",
      " 56  Class   617 non-null    int64  \n",
      "dtypes: float64(55), int64(1), object(1)\n",
      "memory usage: 279.6+ KB\n"
     ]
    }
   ],
   "source": [
    "train.info()"
   ]
  },
  {
   "cell_type": "code",
   "execution_count": 4,
   "id": "56a1855c",
   "metadata": {
    "execution": {
     "iopub.execute_input": "2023-05-26T13:47:53.446465Z",
     "iopub.status.busy": "2023-05-26T13:47:53.445793Z",
     "iopub.status.idle": "2023-05-26T13:47:53.454059Z",
     "shell.execute_reply": "2023-05-26T13:47:53.453114Z"
    },
    "papermill": {
     "duration": 0.018996,
     "end_time": "2023-05-26T13:47:53.456913",
     "exception": false,
     "start_time": "2023-05-26T13:47:53.437917",
     "status": "completed"
    },
    "tags": []
   },
   "outputs": [],
   "source": [
    "train['EJ'] = train['EJ'].replace({'A': 0, 'B': 1})\n",
    "test['EJ'] = test['EJ'].replace({'A': 0, 'B': 1})"
   ]
  },
  {
   "cell_type": "code",
   "execution_count": 5,
   "id": "1fd2b84e",
   "metadata": {
    "execution": {
     "iopub.execute_input": "2023-05-26T13:47:53.470496Z",
     "iopub.status.busy": "2023-05-26T13:47:53.470135Z",
     "iopub.status.idle": "2023-05-26T13:47:53.476168Z",
     "shell.execute_reply": "2023-05-26T13:47:53.475374Z"
    },
    "papermill": {
     "duration": 0.015256,
     "end_time": "2023-05-26T13:47:53.478256",
     "exception": false,
     "start_time": "2023-05-26T13:47:53.463000",
     "status": "completed"
    },
    "tags": []
   },
   "outputs": [],
   "source": [
    "train = train.dropna(axis = 0)"
   ]
  },
  {
   "cell_type": "code",
   "execution_count": 6,
   "id": "df648d65",
   "metadata": {
    "execution": {
     "iopub.execute_input": "2023-05-26T13:47:53.491803Z",
     "iopub.status.busy": "2023-05-26T13:47:53.491232Z",
     "iopub.status.idle": "2023-05-26T13:47:53.505326Z",
     "shell.execute_reply": "2023-05-26T13:47:53.504537Z"
    },
    "papermill": {
     "duration": 0.024002,
     "end_time": "2023-05-26T13:47:53.508151",
     "exception": false,
     "start_time": "2023-05-26T13:47:53.484149",
     "status": "completed"
    },
    "tags": []
   },
   "outputs": [
    {
     "name": "stdout",
     "output_type": "stream",
     "text": [
      "<class 'pandas.core.frame.DataFrame'>\n",
      "Index: 548 entries, 000ff2bfdfe9 to ffcca4ded3bb\n",
      "Data columns (total 57 columns):\n",
      " #   Column  Non-Null Count  Dtype  \n",
      "---  ------  --------------  -----  \n",
      " 0   AB      548 non-null    float64\n",
      " 1   AF      548 non-null    float64\n",
      " 2   AH      548 non-null    float64\n",
      " 3   AM      548 non-null    float64\n",
      " 4   AR      548 non-null    float64\n",
      " 5   AX      548 non-null    float64\n",
      " 6   AY      548 non-null    float64\n",
      " 7   AZ      548 non-null    float64\n",
      " 8   BC      548 non-null    float64\n",
      " 9   BD      548 non-null    float64\n",
      " 10  BN      548 non-null    float64\n",
      " 11  BP      548 non-null    float64\n",
      " 12  BQ      548 non-null    float64\n",
      " 13  BR      548 non-null    float64\n",
      " 14  BZ      548 non-null    float64\n",
      " 15  CB      548 non-null    float64\n",
      " 16  CC      548 non-null    float64\n",
      " 17  CD      548 non-null    float64\n",
      " 18  CF      548 non-null    float64\n",
      " 19  CH      548 non-null    float64\n",
      " 20  CL      548 non-null    float64\n",
      " 21  CR      548 non-null    float64\n",
      " 22  CS      548 non-null    float64\n",
      " 23  CU      548 non-null    float64\n",
      " 24  CW      548 non-null    float64\n",
      " 25  DA      548 non-null    float64\n",
      " 26  DE      548 non-null    float64\n",
      " 27  DF      548 non-null    float64\n",
      " 28  DH      548 non-null    float64\n",
      " 29  DI      548 non-null    float64\n",
      " 30  DL      548 non-null    float64\n",
      " 31  DN      548 non-null    float64\n",
      " 32  DU      548 non-null    float64\n",
      " 33  DV      548 non-null    float64\n",
      " 34  DY      548 non-null    float64\n",
      " 35  EB      548 non-null    float64\n",
      " 36  EE      548 non-null    float64\n",
      " 37  EG      548 non-null    float64\n",
      " 38  EH      548 non-null    float64\n",
      " 39  EJ      548 non-null    int64  \n",
      " 40  EL      548 non-null    float64\n",
      " 41  EP      548 non-null    float64\n",
      " 42  EU      548 non-null    float64\n",
      " 43  FC      548 non-null    float64\n",
      " 44  FD      548 non-null    float64\n",
      " 45  FE      548 non-null    float64\n",
      " 46  FI      548 non-null    float64\n",
      " 47  FL      548 non-null    float64\n",
      " 48  FR      548 non-null    float64\n",
      " 49  FS      548 non-null    float64\n",
      " 50  GB      548 non-null    float64\n",
      " 51  GE      548 non-null    float64\n",
      " 52  GF      548 non-null    float64\n",
      " 53  GH      548 non-null    float64\n",
      " 54  GI      548 non-null    float64\n",
      " 55  GL      548 non-null    float64\n",
      " 56  Class   548 non-null    int64  \n",
      "dtypes: float64(55), int64(2)\n",
      "memory usage: 248.3+ KB\n"
     ]
    }
   ],
   "source": [
    "train.info()"
   ]
  },
  {
   "cell_type": "code",
   "execution_count": 7,
   "id": "3bf79428",
   "metadata": {
    "execution": {
     "iopub.execute_input": "2023-05-26T13:47:53.524038Z",
     "iopub.status.busy": "2023-05-26T13:47:53.523356Z",
     "iopub.status.idle": "2023-05-26T13:47:54.886516Z",
     "shell.execute_reply": "2023-05-26T13:47:54.885240Z"
    },
    "papermill": {
     "duration": 1.37358,
     "end_time": "2023-05-26T13:47:54.889456",
     "exception": false,
     "start_time": "2023-05-26T13:47:53.515876",
     "status": "completed"
    },
    "tags": []
   },
   "outputs": [],
   "source": [
    "from sklearn import preprocessing\n",
    "x = preprocessing.normalize(train.drop(\"Class\",axis =1))\n",
    "test = preprocessing.normalize(test)"
   ]
  },
  {
   "cell_type": "code",
   "execution_count": 8,
   "id": "5e167058",
   "metadata": {
    "execution": {
     "iopub.execute_input": "2023-05-26T13:47:54.903949Z",
     "iopub.status.busy": "2023-05-26T13:47:54.903530Z",
     "iopub.status.idle": "2023-05-26T13:47:55.022696Z",
     "shell.execute_reply": "2023-05-26T13:47:55.021664Z"
    },
    "papermill": {
     "duration": 0.12963,
     "end_time": "2023-05-26T13:47:55.025316",
     "exception": false,
     "start_time": "2023-05-26T13:47:54.895686",
     "status": "completed"
    },
    "tags": []
   },
   "outputs": [],
   "source": [
    "from sklearn.model_selection import train_test_split\n",
    "x, x_cv, y, y_cv = train_test_split(x, train[\"Class\"], test_size=0.33, random_state=42)"
   ]
  },
  {
   "cell_type": "markdown",
   "id": "f5b40a88",
   "metadata": {
    "papermill": {
     "duration": 0.005903,
     "end_time": "2023-05-26T13:47:55.037654",
     "exception": false,
     "start_time": "2023-05-26T13:47:55.031751",
     "status": "completed"
    },
    "tags": []
   },
   "source": [
    "Logistic regression"
   ]
  },
  {
   "cell_type": "code",
   "execution_count": 9,
   "id": "5407d359",
   "metadata": {
    "execution": {
     "iopub.execute_input": "2023-05-26T13:47:55.051671Z",
     "iopub.status.busy": "2023-05-26T13:47:55.051247Z",
     "iopub.status.idle": "2023-05-26T13:47:55.190575Z",
     "shell.execute_reply": "2023-05-26T13:47:55.188953Z"
    },
    "papermill": {
     "duration": 0.151315,
     "end_time": "2023-05-26T13:47:55.194943",
     "exception": false,
     "start_time": "2023-05-26T13:47:55.043628",
     "status": "completed"
    },
    "tags": []
   },
   "outputs": [],
   "source": [
    "from sklearn.linear_model import LogisticRegression\n",
    "model_1 = LogisticRegression(random_state=42,max_iter=1000).fit(x, y)"
   ]
  },
  {
   "cell_type": "code",
   "execution_count": 10,
   "id": "609474e2",
   "metadata": {
    "execution": {
     "iopub.execute_input": "2023-05-26T13:47:55.223169Z",
     "iopub.status.busy": "2023-05-26T13:47:55.222476Z",
     "iopub.status.idle": "2023-05-26T13:47:55.919245Z",
     "shell.execute_reply": "2023-05-26T13:47:55.918290Z"
    },
    "papermill": {
     "duration": 0.714276,
     "end_time": "2023-05-26T13:47:55.922213",
     "exception": false,
     "start_time": "2023-05-26T13:47:55.207937",
     "status": "completed"
    },
    "tags": []
   },
   "outputs": [
    {
     "data": {
      "text/html": [
       "<style>#sk-container-id-1 {color: black;background-color: white;}#sk-container-id-1 pre{padding: 0;}#sk-container-id-1 div.sk-toggleable {background-color: white;}#sk-container-id-1 label.sk-toggleable__label {cursor: pointer;display: block;width: 100%;margin-bottom: 0;padding: 0.3em;box-sizing: border-box;text-align: center;}#sk-container-id-1 label.sk-toggleable__label-arrow:before {content: \"▸\";float: left;margin-right: 0.25em;color: #696969;}#sk-container-id-1 label.sk-toggleable__label-arrow:hover:before {color: black;}#sk-container-id-1 div.sk-estimator:hover label.sk-toggleable__label-arrow:before {color: black;}#sk-container-id-1 div.sk-toggleable__content {max-height: 0;max-width: 0;overflow: hidden;text-align: left;background-color: #f0f8ff;}#sk-container-id-1 div.sk-toggleable__content pre {margin: 0.2em;color: black;border-radius: 0.25em;background-color: #f0f8ff;}#sk-container-id-1 input.sk-toggleable__control:checked~div.sk-toggleable__content {max-height: 200px;max-width: 100%;overflow: auto;}#sk-container-id-1 input.sk-toggleable__control:checked~label.sk-toggleable__label-arrow:before {content: \"▾\";}#sk-container-id-1 div.sk-estimator input.sk-toggleable__control:checked~label.sk-toggleable__label {background-color: #d4ebff;}#sk-container-id-1 div.sk-label input.sk-toggleable__control:checked~label.sk-toggleable__label {background-color: #d4ebff;}#sk-container-id-1 input.sk-hidden--visually {border: 0;clip: rect(1px 1px 1px 1px);clip: rect(1px, 1px, 1px, 1px);height: 1px;margin: -1px;overflow: hidden;padding: 0;position: absolute;width: 1px;}#sk-container-id-1 div.sk-estimator {font-family: monospace;background-color: #f0f8ff;border: 1px dotted black;border-radius: 0.25em;box-sizing: border-box;margin-bottom: 0.5em;}#sk-container-id-1 div.sk-estimator:hover {background-color: #d4ebff;}#sk-container-id-1 div.sk-parallel-item::after {content: \"\";width: 100%;border-bottom: 1px solid gray;flex-grow: 1;}#sk-container-id-1 div.sk-label:hover label.sk-toggleable__label {background-color: #d4ebff;}#sk-container-id-1 div.sk-serial::before {content: \"\";position: absolute;border-left: 1px solid gray;box-sizing: border-box;top: 0;bottom: 0;left: 50%;z-index: 0;}#sk-container-id-1 div.sk-serial {display: flex;flex-direction: column;align-items: center;background-color: white;padding-right: 0.2em;padding-left: 0.2em;position: relative;}#sk-container-id-1 div.sk-item {position: relative;z-index: 1;}#sk-container-id-1 div.sk-parallel {display: flex;align-items: stretch;justify-content: center;background-color: white;position: relative;}#sk-container-id-1 div.sk-item::before, #sk-container-id-1 div.sk-parallel-item::before {content: \"\";position: absolute;border-left: 1px solid gray;box-sizing: border-box;top: 0;bottom: 0;left: 50%;z-index: -1;}#sk-container-id-1 div.sk-parallel-item {display: flex;flex-direction: column;z-index: 1;position: relative;background-color: white;}#sk-container-id-1 div.sk-parallel-item:first-child::after {align-self: flex-end;width: 50%;}#sk-container-id-1 div.sk-parallel-item:last-child::after {align-self: flex-start;width: 50%;}#sk-container-id-1 div.sk-parallel-item:only-child::after {width: 0;}#sk-container-id-1 div.sk-dashed-wrapped {border: 1px dashed gray;margin: 0 0.4em 0.5em 0.4em;box-sizing: border-box;padding-bottom: 0.4em;background-color: white;}#sk-container-id-1 div.sk-label label {font-family: monospace;font-weight: bold;display: inline-block;line-height: 1.2em;}#sk-container-id-1 div.sk-label-container {text-align: center;}#sk-container-id-1 div.sk-container {/* jupyter's `normalize.less` sets `[hidden] { display: none; }` but bootstrap.min.css set `[hidden] { display: none !important; }` so we also need the `!important` here to be able to override the default hidden behavior on the sphinx rendered scikit-learn.org. See: https://github.com/scikit-learn/scikit-learn/issues/21755 */display: inline-block !important;position: relative;}#sk-container-id-1 div.sk-text-repr-fallback {display: none;}</style><div id=\"sk-container-id-1\" class=\"sk-top-container\"><div class=\"sk-text-repr-fallback\"><pre>RandomForestClassifier()</pre><b>In a Jupyter environment, please rerun this cell to show the HTML representation or trust the notebook. <br />On GitHub, the HTML representation is unable to render, please try loading this page with nbviewer.org.</b></div><div class=\"sk-container\" hidden><div class=\"sk-item\"><div class=\"sk-estimator sk-toggleable\"><input class=\"sk-toggleable__control sk-hidden--visually\" id=\"sk-estimator-id-1\" type=\"checkbox\" checked><label for=\"sk-estimator-id-1\" class=\"sk-toggleable__label sk-toggleable__label-arrow\">RandomForestClassifier</label><div class=\"sk-toggleable__content\"><pre>RandomForestClassifier()</pre></div></div></div></div></div>"
      ],
      "text/plain": [
       "RandomForestClassifier()"
      ]
     },
     "execution_count": 10,
     "metadata": {},
     "output_type": "execute_result"
    }
   ],
   "source": [
    "from sklearn.ensemble import RandomForestClassifier \n",
    "model_2 = RandomForestClassifier(n_estimators = 100) \n",
    "model_2 .fit(x,y)"
   ]
  },
  {
   "cell_type": "code",
   "execution_count": 11,
   "id": "8a018e7e",
   "metadata": {
    "execution": {
     "iopub.execute_input": "2023-05-26T13:47:55.936877Z",
     "iopub.status.busy": "2023-05-26T13:47:55.936490Z",
     "iopub.status.idle": "2023-05-26T13:47:56.290975Z",
     "shell.execute_reply": "2023-05-26T13:47:56.290061Z"
    },
    "papermill": {
     "duration": 0.365069,
     "end_time": "2023-05-26T13:47:56.293709",
     "exception": false,
     "start_time": "2023-05-26T13:47:55.928640",
     "status": "completed"
    },
    "tags": []
   },
   "outputs": [
    {
     "data": {
      "text/html": [
       "<style>#sk-container-id-2 {color: black;background-color: white;}#sk-container-id-2 pre{padding: 0;}#sk-container-id-2 div.sk-toggleable {background-color: white;}#sk-container-id-2 label.sk-toggleable__label {cursor: pointer;display: block;width: 100%;margin-bottom: 0;padding: 0.3em;box-sizing: border-box;text-align: center;}#sk-container-id-2 label.sk-toggleable__label-arrow:before {content: \"▸\";float: left;margin-right: 0.25em;color: #696969;}#sk-container-id-2 label.sk-toggleable__label-arrow:hover:before {color: black;}#sk-container-id-2 div.sk-estimator:hover label.sk-toggleable__label-arrow:before {color: black;}#sk-container-id-2 div.sk-toggleable__content {max-height: 0;max-width: 0;overflow: hidden;text-align: left;background-color: #f0f8ff;}#sk-container-id-2 div.sk-toggleable__content pre {margin: 0.2em;color: black;border-radius: 0.25em;background-color: #f0f8ff;}#sk-container-id-2 input.sk-toggleable__control:checked~div.sk-toggleable__content {max-height: 200px;max-width: 100%;overflow: auto;}#sk-container-id-2 input.sk-toggleable__control:checked~label.sk-toggleable__label-arrow:before {content: \"▾\";}#sk-container-id-2 div.sk-estimator input.sk-toggleable__control:checked~label.sk-toggleable__label {background-color: #d4ebff;}#sk-container-id-2 div.sk-label input.sk-toggleable__control:checked~label.sk-toggleable__label {background-color: #d4ebff;}#sk-container-id-2 input.sk-hidden--visually {border: 0;clip: rect(1px 1px 1px 1px);clip: rect(1px, 1px, 1px, 1px);height: 1px;margin: -1px;overflow: hidden;padding: 0;position: absolute;width: 1px;}#sk-container-id-2 div.sk-estimator {font-family: monospace;background-color: #f0f8ff;border: 1px dotted black;border-radius: 0.25em;box-sizing: border-box;margin-bottom: 0.5em;}#sk-container-id-2 div.sk-estimator:hover {background-color: #d4ebff;}#sk-container-id-2 div.sk-parallel-item::after {content: \"\";width: 100%;border-bottom: 1px solid gray;flex-grow: 1;}#sk-container-id-2 div.sk-label:hover label.sk-toggleable__label {background-color: #d4ebff;}#sk-container-id-2 div.sk-serial::before {content: \"\";position: absolute;border-left: 1px solid gray;box-sizing: border-box;top: 0;bottom: 0;left: 50%;z-index: 0;}#sk-container-id-2 div.sk-serial {display: flex;flex-direction: column;align-items: center;background-color: white;padding-right: 0.2em;padding-left: 0.2em;position: relative;}#sk-container-id-2 div.sk-item {position: relative;z-index: 1;}#sk-container-id-2 div.sk-parallel {display: flex;align-items: stretch;justify-content: center;background-color: white;position: relative;}#sk-container-id-2 div.sk-item::before, #sk-container-id-2 div.sk-parallel-item::before {content: \"\";position: absolute;border-left: 1px solid gray;box-sizing: border-box;top: 0;bottom: 0;left: 50%;z-index: -1;}#sk-container-id-2 div.sk-parallel-item {display: flex;flex-direction: column;z-index: 1;position: relative;background-color: white;}#sk-container-id-2 div.sk-parallel-item:first-child::after {align-self: flex-end;width: 50%;}#sk-container-id-2 div.sk-parallel-item:last-child::after {align-self: flex-start;width: 50%;}#sk-container-id-2 div.sk-parallel-item:only-child::after {width: 0;}#sk-container-id-2 div.sk-dashed-wrapped {border: 1px dashed gray;margin: 0 0.4em 0.5em 0.4em;box-sizing: border-box;padding-bottom: 0.4em;background-color: white;}#sk-container-id-2 div.sk-label label {font-family: monospace;font-weight: bold;display: inline-block;line-height: 1.2em;}#sk-container-id-2 div.sk-label-container {text-align: center;}#sk-container-id-2 div.sk-container {/* jupyter's `normalize.less` sets `[hidden] { display: none; }` but bootstrap.min.css set `[hidden] { display: none !important; }` so we also need the `!important` here to be able to override the default hidden behavior on the sphinx rendered scikit-learn.org. See: https://github.com/scikit-learn/scikit-learn/issues/21755 */display: inline-block !important;position: relative;}#sk-container-id-2 div.sk-text-repr-fallback {display: none;}</style><div id=\"sk-container-id-2\" class=\"sk-top-container\"><div class=\"sk-text-repr-fallback\"><pre>XGBClassifier(base_score=None, booster=None, callbacks=None,\n",
       "              colsample_bylevel=None, colsample_bynode=None,\n",
       "              colsample_bytree=None, early_stopping_rounds=None,\n",
       "              enable_categorical=False, eval_metric=None, feature_types=None,\n",
       "              gamma=None, gpu_id=None, grow_policy=None, importance_type=None,\n",
       "              interaction_constraints=None, learning_rate=None, max_bin=None,\n",
       "              max_cat_threshold=None, max_cat_to_onehot=None,\n",
       "              max_delta_step=None, max_depth=None, max_leaves=None,\n",
       "              min_child_weight=None, missing=nan, monotone_constraints=None,\n",
       "              n_estimators=100, n_jobs=None, num_parallel_tree=None,\n",
       "              predictor=None, random_state=None, ...)</pre><b>In a Jupyter environment, please rerun this cell to show the HTML representation or trust the notebook. <br />On GitHub, the HTML representation is unable to render, please try loading this page with nbviewer.org.</b></div><div class=\"sk-container\" hidden><div class=\"sk-item\"><div class=\"sk-estimator sk-toggleable\"><input class=\"sk-toggleable__control sk-hidden--visually\" id=\"sk-estimator-id-2\" type=\"checkbox\" checked><label for=\"sk-estimator-id-2\" class=\"sk-toggleable__label sk-toggleable__label-arrow\">XGBClassifier</label><div class=\"sk-toggleable__content\"><pre>XGBClassifier(base_score=None, booster=None, callbacks=None,\n",
       "              colsample_bylevel=None, colsample_bynode=None,\n",
       "              colsample_bytree=None, early_stopping_rounds=None,\n",
       "              enable_categorical=False, eval_metric=None, feature_types=None,\n",
       "              gamma=None, gpu_id=None, grow_policy=None, importance_type=None,\n",
       "              interaction_constraints=None, learning_rate=None, max_bin=None,\n",
       "              max_cat_threshold=None, max_cat_to_onehot=None,\n",
       "              max_delta_step=None, max_depth=None, max_leaves=None,\n",
       "              min_child_weight=None, missing=nan, monotone_constraints=None,\n",
       "              n_estimators=100, n_jobs=None, num_parallel_tree=None,\n",
       "              predictor=None, random_state=None, ...)</pre></div></div></div></div></div>"
      ],
      "text/plain": [
       "XGBClassifier(base_score=None, booster=None, callbacks=None,\n",
       "              colsample_bylevel=None, colsample_bynode=None,\n",
       "              colsample_bytree=None, early_stopping_rounds=None,\n",
       "              enable_categorical=False, eval_metric=None, feature_types=None,\n",
       "              gamma=None, gpu_id=None, grow_policy=None, importance_type=None,\n",
       "              interaction_constraints=None, learning_rate=None, max_bin=None,\n",
       "              max_cat_threshold=None, max_cat_to_onehot=None,\n",
       "              max_delta_step=None, max_depth=None, max_leaves=None,\n",
       "              min_child_weight=None, missing=nan, monotone_constraints=None,\n",
       "              n_estimators=100, n_jobs=None, num_parallel_tree=None,\n",
       "              predictor=None, random_state=None, ...)"
      ]
     },
     "execution_count": 11,
     "metadata": {},
     "output_type": "execute_result"
    }
   ],
   "source": [
    "from xgboost import XGBClassifier\n",
    "model = XGBClassifier()\n",
    "model.fit(x,y)"
   ]
  },
  {
   "cell_type": "code",
   "execution_count": 12,
   "id": "44003b22",
   "metadata": {
    "execution": {
     "iopub.execute_input": "2023-05-26T13:47:56.309586Z",
     "iopub.status.busy": "2023-05-26T13:47:56.308808Z",
     "iopub.status.idle": "2023-05-26T13:47:56.352535Z",
     "shell.execute_reply": "2023-05-26T13:47:56.351650Z"
    },
    "papermill": {
     "duration": 0.05461,
     "end_time": "2023-05-26T13:47:56.355655",
     "exception": false,
     "start_time": "2023-05-26T13:47:56.301045",
     "status": "completed"
    },
    "tags": []
   },
   "outputs": [],
   "source": [
    "sol_1 = model_1.predict(x_cv)\n",
    "sol_2 = model_2.predict(x_cv)\n",
    "sol_3 = model.predict(x_cv)"
   ]
  },
  {
   "cell_type": "code",
   "execution_count": 13,
   "id": "c74ac496",
   "metadata": {
    "execution": {
     "iopub.execute_input": "2023-05-26T13:47:56.376338Z",
     "iopub.status.busy": "2023-05-26T13:47:56.375695Z",
     "iopub.status.idle": "2023-05-26T13:47:56.390266Z",
     "shell.execute_reply": "2023-05-26T13:47:56.388844Z"
    },
    "papermill": {
     "duration": 0.030279,
     "end_time": "2023-05-26T13:47:56.394014",
     "exception": false,
     "start_time": "2023-05-26T13:47:56.363735",
     "status": "completed"
    },
    "tags": []
   },
   "outputs": [
    {
     "name": "stdout",
     "output_type": "stream",
     "text": [
      "0.8176795580110497\n",
      "0.8784530386740331\n",
      "0.8784530386740331\n"
     ]
    }
   ],
   "source": [
    "from sklearn.metrics import accuracy_score\n",
    "print(accuracy_score(sol_1, y_cv, normalize=True))\n",
    "print(accuracy_score(sol_3, y_cv, normalize=True))\n",
    "print(accuracy_score(sol_2, y_cv, normalize=True))"
   ]
  },
  {
   "cell_type": "code",
   "execution_count": 14,
   "id": "ea628dcf",
   "metadata": {
    "execution": {
     "iopub.execute_input": "2023-05-26T13:47:56.424402Z",
     "iopub.status.busy": "2023-05-26T13:47:56.423705Z",
     "iopub.status.idle": "2023-05-26T13:47:56.441516Z",
     "shell.execute_reply": "2023-05-26T13:47:56.440454Z"
    },
    "papermill": {
     "duration": 0.036158,
     "end_time": "2023-05-26T13:47:56.444132",
     "exception": false,
     "start_time": "2023-05-26T13:47:56.407974",
     "status": "completed"
    },
    "tags": []
   },
   "outputs": [],
   "source": [
    "submit=pd.read_csv(\"/kaggle/input/icr-identify-age-related-conditions/test.csv\",index_col=\"Id\")\n",
    "submit=submit.drop(submit[:],axis =1)"
   ]
  },
  {
   "cell_type": "code",
   "execution_count": 15,
   "id": "251ef9c5",
   "metadata": {
    "execution": {
     "iopub.execute_input": "2023-05-26T13:47:56.460201Z",
     "iopub.status.busy": "2023-05-26T13:47:56.459110Z",
     "iopub.status.idle": "2023-05-26T13:47:56.494086Z",
     "shell.execute_reply": "2023-05-26T13:47:56.493104Z"
    },
    "papermill": {
     "duration": 0.045572,
     "end_time": "2023-05-26T13:47:56.496747",
     "exception": false,
     "start_time": "2023-05-26T13:47:56.451175",
     "status": "completed"
    },
    "tags": []
   },
   "outputs": [],
   "source": [
    "\n",
    "submit[\"class_0\"]=1-model_2.predict(test)\n",
    "submit[\"class_1\"]=model_2.predict(test)\n",
    "submit.to_csv('submission.csv',index=False)"
   ]
  }
 ],
 "metadata": {
  "kernelspec": {
   "display_name": "Python 3",
   "language": "python",
   "name": "python3"
  },
  "language_info": {
   "codemirror_mode": {
    "name": "ipython",
    "version": 3
   },
   "file_extension": ".py",
   "mimetype": "text/x-python",
   "name": "python",
   "nbconvert_exporter": "python",
   "pygments_lexer": "ipython3",
   "version": "3.10.10"
  },
  "papermill": {
   "default_parameters": {},
   "duration": 16.444834,
   "end_time": "2023-05-26T13:47:57.528430",
   "environment_variables": {},
   "exception": null,
   "input_path": "__notebook__.ipynb",
   "output_path": "__notebook__.ipynb",
   "parameters": {},
   "start_time": "2023-05-26T13:47:41.083596",
   "version": "2.4.0"
  }
 },
 "nbformat": 4,
 "nbformat_minor": 5
}
