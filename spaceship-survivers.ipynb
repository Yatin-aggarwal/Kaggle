{
 "cells": [
  {
   "cell_type": "code",
   "execution_count": 1,
   "id": "16ae406e",
   "metadata": {
    "_cell_guid": "b1076dfc-b9ad-4769-8c92-a6c4dae69d19",
    "_uuid": "8f2839f25d086af736a60e9eeb907d3b93b6e0e5",
    "execution": {
     "iopub.execute_input": "2023-03-14T09:55:55.618477Z",
     "iopub.status.busy": "2023-03-14T09:55:55.617671Z",
     "iopub.status.idle": "2023-03-14T09:55:55.632936Z",
     "shell.execute_reply": "2023-03-14T09:55:55.631523Z"
    },
    "papermill": {
     "duration": 0.026407,
     "end_time": "2023-03-14T09:55:55.635982",
     "exception": false,
     "start_time": "2023-03-14T09:55:55.609575",
     "status": "completed"
    },
    "tags": []
   },
   "outputs": [
    {
     "name": "stdout",
     "output_type": "stream",
     "text": [
      "/kaggle/input/spaceship-titanic/sample_submission.csv\n",
      "/kaggle/input/spaceship-titanic/train.csv\n",
      "/kaggle/input/spaceship-titanic/test.csv\n"
     ]
    }
   ],
   "source": [
    "# This Python 3 environment comes with many helpful analytics libraries installed\n",
    "# It is defined by the kaggle/python Docker image: https://github.com/kaggle/docker-python\n",
    "# For example, here's several helpful packages to load\n",
    "\n",
    "import numpy as np # linear algebra\n",
    "import pandas as pd # data processing, CSV file I/O (e.g. pd.read_csv)\n",
    "\n",
    "# Input data files are available in the read-only \"../input/\" directory\n",
    "# For example, running this (by clicking run or pressing Shift+Enter) will list all files under the input directory\n",
    "\n",
    "import os\n",
    "for dirname, _, filenames in os.walk('/kaggle/input'):\n",
    "    for filename in filenames:\n",
    "        print(os.path.join(dirname, filename))\n",
    "\n",
    "# You can write up to 20GB to the current directory (/kaggle/working/) that gets preserved as output when you create a version using \"Save & Run All\" \n",
    "# You can also write temporary files to /kaggle/temp/, but they won't be saved outside of the current session"
   ]
  },
  {
   "cell_type": "code",
   "execution_count": 2,
   "id": "ed0203c5",
   "metadata": {
    "execution": {
     "iopub.execute_input": "2023-03-14T09:55:55.649209Z",
     "iopub.status.busy": "2023-03-14T09:55:55.648293Z",
     "iopub.status.idle": "2023-03-14T09:55:56.768207Z",
     "shell.execute_reply": "2023-03-14T09:55:56.767156Z"
    },
    "papermill": {
     "duration": 1.129791,
     "end_time": "2023-03-14T09:55:56.771330",
     "exception": false,
     "start_time": "2023-03-14T09:55:55.641539",
     "status": "completed"
    },
    "tags": []
   },
   "outputs": [],
   "source": [
    "import pandas as pd \n",
    "import numpy as np\n",
    "from sklearn.model_selection import train_test_split\n",
    "from xgboost import XGBClassifier\n",
    "from sklearn.metrics import accuracy_score"
   ]
  },
  {
   "cell_type": "code",
   "execution_count": 3,
   "id": "e20a17a6",
   "metadata": {
    "execution": {
     "iopub.execute_input": "2023-03-14T09:55:56.784868Z",
     "iopub.status.busy": "2023-03-14T09:55:56.783542Z",
     "iopub.status.idle": "2023-03-14T09:55:56.815532Z",
     "shell.execute_reply": "2023-03-14T09:55:56.814103Z"
    },
    "papermill": {
     "duration": 0.041501,
     "end_time": "2023-03-14T09:55:56.818280",
     "exception": false,
     "start_time": "2023-03-14T09:55:56.776779",
     "status": "completed"
    },
    "tags": []
   },
   "outputs": [
    {
     "name": "stdout",
     "output_type": "stream",
     "text": [
      "  PassengerId  Transported\n",
      "0     0013_01        False\n",
      "1     0018_01        False\n",
      "2     0019_01        False\n",
      "3     0021_01        False\n",
      "4     0023_01        False\n",
      "5     0027_01        False\n",
      "6     0029_01        False\n",
      "7     0032_01        False\n",
      "8     0032_02        False\n",
      "9     0033_01        False\n"
     ]
    }
   ],
   "source": [
    "Sample_output= pd.read_csv('/kaggle/input/spaceship-titanic/sample_submission.csv')\n",
    "print (Sample_output[:10])"
   ]
  },
  {
   "cell_type": "code",
   "execution_count": 4,
   "id": "3349c3e7",
   "metadata": {
    "execution": {
     "iopub.execute_input": "2023-03-14T09:55:56.831469Z",
     "iopub.status.busy": "2023-03-14T09:55:56.830410Z",
     "iopub.status.idle": "2023-03-14T09:55:56.915066Z",
     "shell.execute_reply": "2023-03-14T09:55:56.913837Z"
    },
    "papermill": {
     "duration": 0.094252,
     "end_time": "2023-03-14T09:55:56.918005",
     "exception": false,
     "start_time": "2023-03-14T09:55:56.823753",
     "status": "completed"
    },
    "tags": []
   },
   "outputs": [],
   "source": [
    "train_csv = pd.read_csv('/kaggle/input/spaceship-titanic/train.csv')\n",
    "test_csv = pd.read_csv('/kaggle/input/spaceship-titanic/test.csv')"
   ]
  },
  {
   "cell_type": "code",
   "execution_count": 5,
   "id": "9451816d",
   "metadata": {
    "execution": {
     "iopub.execute_input": "2023-03-14T09:55:56.930744Z",
     "iopub.status.busy": "2023-03-14T09:55:56.930088Z",
     "iopub.status.idle": "2023-03-14T09:55:56.944537Z",
     "shell.execute_reply": "2023-03-14T09:55:56.943034Z"
    },
    "papermill": {
     "duration": 0.023407,
     "end_time": "2023-03-14T09:55:56.946815",
     "exception": false,
     "start_time": "2023-03-14T09:55:56.923408",
     "status": "completed"
    },
    "tags": []
   },
   "outputs": [
    {
     "name": "stdout",
     "output_type": "stream",
     "text": [
      "  PassengerId HomePlanet CryoSleep  Cabin  Destination   Age    VIP  \\\n",
      "0     0001_01     Europa     False  B/0/P  TRAPPIST-1e  39.0  False   \n",
      "1     0002_01      Earth     False  F/0/S  TRAPPIST-1e  24.0  False   \n",
      "2     0003_01     Europa     False  A/0/S  TRAPPIST-1e  58.0   True   \n",
      "3     0003_02     Europa     False  A/0/S  TRAPPIST-1e  33.0  False   \n",
      "4     0004_01      Earth     False  F/1/S  TRAPPIST-1e  16.0  False   \n",
      "\n",
      "   RoomService  FoodCourt  ShoppingMall     Spa  VRDeck               Name  \\\n",
      "0          0.0        0.0           0.0     0.0     0.0    Maham Ofracculy   \n",
      "1        109.0        9.0          25.0   549.0    44.0       Juanna Vines   \n",
      "2         43.0     3576.0           0.0  6715.0    49.0      Altark Susent   \n",
      "3          0.0     1283.0         371.0  3329.0   193.0       Solam Susent   \n",
      "4        303.0       70.0         151.0   565.0     2.0  Willy Santantines   \n",
      "\n",
      "   Transported  \n",
      "0        False  \n",
      "1         True  \n",
      "2        False  \n",
      "3        False  \n",
      "4         True  \n"
     ]
    }
   ],
   "source": [
    "print(train_csv[:5])"
   ]
  },
  {
   "cell_type": "code",
   "execution_count": 6,
   "id": "3352fac9",
   "metadata": {
    "execution": {
     "iopub.execute_input": "2023-03-14T09:55:56.960538Z",
     "iopub.status.busy": "2023-03-14T09:55:56.959465Z",
     "iopub.status.idle": "2023-03-14T09:55:56.986365Z",
     "shell.execute_reply": "2023-03-14T09:55:56.984985Z"
    },
    "papermill": {
     "duration": 0.037901,
     "end_time": "2023-03-14T09:55:56.990298",
     "exception": false,
     "start_time": "2023-03-14T09:55:56.952397",
     "status": "completed"
    },
    "tags": []
   },
   "outputs": [
    {
     "name": "stdout",
     "output_type": "stream",
     "text": [
      "<class 'pandas.core.frame.DataFrame'>\n",
      "RangeIndex: 8693 entries, 0 to 8692\n",
      "Data columns (total 14 columns):\n",
      " #   Column        Non-Null Count  Dtype  \n",
      "---  ------        --------------  -----  \n",
      " 0   PassengerId   8693 non-null   object \n",
      " 1   HomePlanet    8492 non-null   object \n",
      " 2   CryoSleep     8476 non-null   object \n",
      " 3   Cabin         8494 non-null   object \n",
      " 4   Destination   8511 non-null   object \n",
      " 5   Age           8514 non-null   float64\n",
      " 6   VIP           8490 non-null   object \n",
      " 7   RoomService   8512 non-null   float64\n",
      " 8   FoodCourt     8510 non-null   float64\n",
      " 9   ShoppingMall  8485 non-null   float64\n",
      " 10  Spa           8510 non-null   float64\n",
      " 11  VRDeck        8505 non-null   float64\n",
      " 12  Name          8493 non-null   object \n",
      " 13  Transported   8693 non-null   bool   \n",
      "dtypes: bool(1), float64(6), object(7)\n",
      "memory usage: 891.5+ KB\n"
     ]
    }
   ],
   "source": [
    "train_csv.info()"
   ]
  },
  {
   "cell_type": "markdown",
   "id": "083985e6",
   "metadata": {
    "papermill": {
     "duration": 0.00587,
     "end_time": "2023-03-14T09:55:57.002483",
     "exception": false,
     "start_time": "2023-03-14T09:55:56.996613",
     "status": "completed"
    },
    "tags": []
   },
   "source": [
    "Droping Name row as It will not have any effects on prediction"
   ]
  },
  {
   "cell_type": "code",
   "execution_count": 7,
   "id": "b9f313bd",
   "metadata": {
    "execution": {
     "iopub.execute_input": "2023-03-14T09:55:57.016154Z",
     "iopub.status.busy": "2023-03-14T09:55:57.015058Z",
     "iopub.status.idle": "2023-03-14T09:55:57.025712Z",
     "shell.execute_reply": "2023-03-14T09:55:57.024190Z"
    },
    "papermill": {
     "duration": 0.020579,
     "end_time": "2023-03-14T09:55:57.028673",
     "exception": false,
     "start_time": "2023-03-14T09:55:57.008094",
     "status": "completed"
    },
    "tags": []
   },
   "outputs": [
    {
     "name": "stdout",
     "output_type": "stream",
     "text": [
      "Index(['PassengerId', 'HomePlanet', 'CryoSleep', 'Destination', 'Age', 'VIP',\n",
      "       'Transported'],\n",
      "      dtype='object')\n"
     ]
    }
   ],
   "source": [
    "train_csv = train_csv.drop(['Name','Cabin','RoomService', 'FoodCourt', 'ShoppingMall', 'Spa', 'VRDeck'],axis = 1)\n",
    "print(train_csv.columns)"
   ]
  },
  {
   "cell_type": "code",
   "execution_count": 8,
   "id": "ddf06f91",
   "metadata": {
    "execution": {
     "iopub.execute_input": "2023-03-14T09:55:57.042190Z",
     "iopub.status.busy": "2023-03-14T09:55:57.041772Z",
     "iopub.status.idle": "2023-03-14T09:55:57.059351Z",
     "shell.execute_reply": "2023-03-14T09:55:57.058094Z"
    },
    "papermill": {
     "duration": 0.027274,
     "end_time": "2023-03-14T09:55:57.061944",
     "exception": false,
     "start_time": "2023-03-14T09:55:57.034670",
     "status": "completed"
    },
    "tags": []
   },
   "outputs": [],
   "source": [
    "for i in train_csv.columns:\n",
    "    if( train_csv.dtypes[i] == object ):\n",
    "        train = train_csv[i].fillna(method= 'bfill',inplace=True,axis = 0)  \n"
   ]
  },
  {
   "cell_type": "code",
   "execution_count": 9,
   "id": "855562fa",
   "metadata": {
    "execution": {
     "iopub.execute_input": "2023-03-14T09:55:57.075398Z",
     "iopub.status.busy": "2023-03-14T09:55:57.074963Z",
     "iopub.status.idle": "2023-03-14T09:55:57.084994Z",
     "shell.execute_reply": "2023-03-14T09:55:57.084126Z"
    },
    "papermill": {
     "duration": 0.019516,
     "end_time": "2023-03-14T09:55:57.087272",
     "exception": false,
     "start_time": "2023-03-14T09:55:57.067756",
     "status": "completed"
    },
    "tags": []
   },
   "outputs": [],
   "source": [
    "train_csv['Age'].describe()\n",
    "train_csv['Age'] = train_csv['Age'].fillna(28.827930)"
   ]
  },
  {
   "cell_type": "code",
   "execution_count": 10,
   "id": "ff141fa5",
   "metadata": {
    "execution": {
     "iopub.execute_input": "2023-03-14T09:55:57.100903Z",
     "iopub.status.busy": "2023-03-14T09:55:57.100191Z",
     "iopub.status.idle": "2023-03-14T09:55:57.112913Z",
     "shell.execute_reply": "2023-03-14T09:55:57.111990Z"
    },
    "papermill": {
     "duration": 0.022368,
     "end_time": "2023-03-14T09:55:57.115428",
     "exception": false,
     "start_time": "2023-03-14T09:55:57.093060",
     "status": "completed"
    },
    "tags": []
   },
   "outputs": [],
   "source": [
    "train_csv = pd.get_dummies(train_csv, columns = ['HomePlanet', 'Destination'])\n",
    "\n"
   ]
  },
  {
   "cell_type": "code",
   "execution_count": 11,
   "id": "84a7f58a",
   "metadata": {
    "execution": {
     "iopub.execute_input": "2023-03-14T09:55:57.129042Z",
     "iopub.status.busy": "2023-03-14T09:55:57.128367Z",
     "iopub.status.idle": "2023-03-14T09:55:57.134767Z",
     "shell.execute_reply": "2023-03-14T09:55:57.133832Z"
    },
    "papermill": {
     "duration": 0.016016,
     "end_time": "2023-03-14T09:55:57.137095",
     "exception": false,
     "start_time": "2023-03-14T09:55:57.121079",
     "status": "completed"
    },
    "tags": []
   },
   "outputs": [],
   "source": [
    "train_csv.rename(columns = {'Destination_PSO J318.5-22':'PSO','Destination_TRAPPIST-1e':'TRAPPIST',\n",
    "                                        'HomePlanet_Earth':'Earth','HomePlanet_Europa':'Europa',\n",
    "                                        'HomePlanet_Mars':'Mars','Destination_55 Cancri e':'Cancrie'}, \n",
    "                                        inplace = True)"
   ]
  },
  {
   "cell_type": "code",
   "execution_count": 12,
   "id": "45683abc",
   "metadata": {
    "execution": {
     "iopub.execute_input": "2023-03-14T09:55:57.150748Z",
     "iopub.status.busy": "2023-03-14T09:55:57.150066Z",
     "iopub.status.idle": "2023-03-14T09:55:57.173072Z",
     "shell.execute_reply": "2023-03-14T09:55:57.171736Z"
    },
    "papermill": {
     "duration": 0.032728,
     "end_time": "2023-03-14T09:55:57.175657",
     "exception": false,
     "start_time": "2023-03-14T09:55:57.142929",
     "status": "completed"
    },
    "tags": []
   },
   "outputs": [
    {
     "name": "stdout",
     "output_type": "stream",
     "text": [
      "<class 'pandas.core.frame.DataFrame'>\n",
      "RangeIndex: 8693 entries, 0 to 8692\n",
      "Data columns (total 11 columns):\n",
      " #   Column       Non-Null Count  Dtype \n",
      "---  ------       --------------  ----- \n",
      " 0   PassengerId  8693 non-null   object\n",
      " 1   CryoSleep    8693 non-null   int64 \n",
      " 2   Age          8693 non-null   int64 \n",
      " 3   VIP          8693 non-null   int64 \n",
      " 4   Transported  8693 non-null   int64 \n",
      " 5   Earth        8693 non-null   int64 \n",
      " 6   Europa       8693 non-null   int64 \n",
      " 7   Mars         8693 non-null   int64 \n",
      " 8   Cancrie      8693 non-null   int64 \n",
      " 9   PSO          8693 non-null   int64 \n",
      " 10  TRAPPIST     8693 non-null   int64 \n",
      "dtypes: int64(10), object(1)\n",
      "memory usage: 747.2+ KB\n"
     ]
    }
   ],
   "source": [
    "train_csv['Transported'] = train_csv['Transported'].astype(int)\n",
    "train_csv['CryoSleep'] = train_csv['CryoSleep'].astype(int)\n",
    "train_csv['Age'] = train_csv['Age'].astype(int)\n",
    "train_csv['Earth'] = train_csv['Earth'].astype(int)\n",
    "train_csv['Europa'] = train_csv['Europa'].astype(int)\n",
    "train_csv['Mars'] = train_csv['Mars'].astype(int)\n",
    "train_csv['PSO'] = train_csv['PSO'].astype(int)\n",
    "train_csv['TRAPPIST'] = train_csv['TRAPPIST'].astype(int)\n",
    "train_csv['VIP'] = train_csv['VIP'].astype(int)\n",
    "train_csv['Cancrie'] = train_csv['Cancrie'].astype(int)\n",
    "train_csv.info()"
   ]
  },
  {
   "cell_type": "code",
   "execution_count": 13,
   "id": "f8c55389",
   "metadata": {
    "execution": {
     "iopub.execute_input": "2023-03-14T09:55:57.189200Z",
     "iopub.status.busy": "2023-03-14T09:55:57.188549Z",
     "iopub.status.idle": "2023-03-14T09:55:57.200247Z",
     "shell.execute_reply": "2023-03-14T09:55:57.198655Z"
    },
    "papermill": {
     "duration": 0.022473,
     "end_time": "2023-03-14T09:55:57.203780",
     "exception": false,
     "start_time": "2023-03-14T09:55:57.181307",
     "status": "completed"
    },
    "tags": []
   },
   "outputs": [
    {
     "name": "stdout",
     "output_type": "stream",
     "text": [
      "     PassengerId  CryoSleep  Age  VIP  Transported  Earth  Europa  Mars  \\\n",
      "0        0001_01          0   39    0            0      0       1     0   \n",
      "1        0002_01          0   24    0            1      1       0     0   \n",
      "2        0003_01          0   58    1            0      0       1     0   \n",
      "3        0003_02          0   33    0            0      0       1     0   \n",
      "4        0004_01          0   16    0            1      1       0     0   \n",
      "...          ...        ...  ...  ...          ...    ...     ...   ...   \n",
      "8688     9276_01          0   41    1            0      0       1     0   \n",
      "8689     9278_01          1   18    0            0      1       0     0   \n",
      "8690     9279_01          0   26    0            1      1       0     0   \n",
      "8691     9280_01          0   32    0            0      0       1     0   \n",
      "8692     9280_02          0   44    0            1      0       1     0   \n",
      "\n",
      "      Cancrie  PSO  TRAPPIST  \n",
      "0           0    0         1  \n",
      "1           0    0         1  \n",
      "2           0    0         1  \n",
      "3           0    0         1  \n",
      "4           0    0         1  \n",
      "...       ...  ...       ...  \n",
      "8688        1    0         0  \n",
      "8689        0    1         0  \n",
      "8690        0    0         1  \n",
      "8691        1    0         0  \n",
      "8692        0    0         1  \n",
      "\n",
      "[8693 rows x 11 columns]\n"
     ]
    }
   ],
   "source": [
    "print(train_csv)"
   ]
  },
  {
   "cell_type": "code",
   "execution_count": 14,
   "id": "43f2dc54",
   "metadata": {
    "execution": {
     "iopub.execute_input": "2023-03-14T09:55:57.219766Z",
     "iopub.status.busy": "2023-03-14T09:55:57.218799Z",
     "iopub.status.idle": "2023-03-14T09:55:57.226859Z",
     "shell.execute_reply": "2023-03-14T09:55:57.225961Z"
    },
    "papermill": {
     "duration": 0.018771,
     "end_time": "2023-03-14T09:55:57.229133",
     "exception": false,
     "start_time": "2023-03-14T09:55:57.210362",
     "status": "completed"
    },
    "tags": []
   },
   "outputs": [],
   "source": [
    "x = np.array(train_csv.drop(['PassengerId','Transported'],axis=1))\n",
    "y = np.array(train_csv['Transported'])"
   ]
  },
  {
   "cell_type": "code",
   "execution_count": 15,
   "id": "50062efc",
   "metadata": {
    "execution": {
     "iopub.execute_input": "2023-03-14T09:55:57.243294Z",
     "iopub.status.busy": "2023-03-14T09:55:57.242539Z",
     "iopub.status.idle": "2023-03-14T09:55:57.250570Z",
     "shell.execute_reply": "2023-03-14T09:55:57.249330Z"
    },
    "papermill": {
     "duration": 0.018441,
     "end_time": "2023-03-14T09:55:57.253518",
     "exception": false,
     "start_time": "2023-03-14T09:55:57.235077",
     "status": "completed"
    },
    "tags": []
   },
   "outputs": [],
   "source": [
    "x_cv, x_train, y_cv, y_train = train_test_split(x,y,test_size=0.20, random_state=1)\n"
   ]
  },
  {
   "cell_type": "code",
   "execution_count": 16,
   "id": "f5f2ea66",
   "metadata": {
    "execution": {
     "iopub.execute_input": "2023-03-14T09:55:57.268347Z",
     "iopub.status.busy": "2023-03-14T09:55:57.267173Z",
     "iopub.status.idle": "2023-03-14T09:56:03.319061Z",
     "shell.execute_reply": "2023-03-14T09:56:03.318083Z"
    },
    "papermill": {
     "duration": 6.061758,
     "end_time": "2023-03-14T09:56:03.321479",
     "exception": false,
     "start_time": "2023-03-14T09:55:57.259721",
     "status": "completed"
    },
    "tags": []
   },
   "outputs": [
    {
     "name": "stdout",
     "output_type": "stream",
     "text": [
      "[0]\tvalidation_0-logloss:0.66740\n",
      "[1]\tvalidation_0-logloss:0.64680\n",
      "[2]\tvalidation_0-logloss:0.62964\n",
      "[3]\tvalidation_0-logloss:0.61548\n",
      "[4]\tvalidation_0-logloss:0.60371\n",
      "[5]\tvalidation_0-logloss:0.59423\n",
      "[6]\tvalidation_0-logloss:0.58565\n",
      "[7]\tvalidation_0-logloss:0.57853\n",
      "[8]\tvalidation_0-logloss:0.57254\n",
      "[9]\tvalidation_0-logloss:0.56774\n",
      "[10]\tvalidation_0-logloss:0.56379\n",
      "[11]\tvalidation_0-logloss:0.56028\n",
      "[12]\tvalidation_0-logloss:0.55742\n",
      "[13]\tvalidation_0-logloss:0.55522\n",
      "[14]\tvalidation_0-logloss:0.55329\n",
      "[15]\tvalidation_0-logloss:0.55170\n",
      "[16]\tvalidation_0-logloss:0.55061\n",
      "[17]\tvalidation_0-logloss:0.54975\n",
      "[18]\tvalidation_0-logloss:0.54902\n",
      "[19]\tvalidation_0-logloss:0.54839\n",
      "[20]\tvalidation_0-logloss:0.54819\n",
      "[21]\tvalidation_0-logloss:0.54796\n",
      "[22]\tvalidation_0-logloss:0.54771\n",
      "[23]\tvalidation_0-logloss:0.54796\n",
      "[24]\tvalidation_0-logloss:0.54782\n",
      "[25]\tvalidation_0-logloss:0.54777\n",
      "[26]\tvalidation_0-logloss:0.54788\n",
      "[27]\tvalidation_0-logloss:0.54810\n",
      "[28]\tvalidation_0-logloss:0.54841\n",
      "[29]\tvalidation_0-logloss:0.54880\n",
      "[30]\tvalidation_0-logloss:0.54908\n",
      "[31]\tvalidation_0-logloss:0.54946\n",
      "[32]\tvalidation_0-logloss:0.54958\n",
      "[33]\tvalidation_0-logloss:0.55007\n",
      "[34]\tvalidation_0-logloss:0.55041\n",
      "[35]\tvalidation_0-logloss:0.55062\n",
      "[36]\tvalidation_0-logloss:0.55125\n",
      "[37]\tvalidation_0-logloss:0.55134\n",
      "[38]\tvalidation_0-logloss:0.55153\n",
      "[39]\tvalidation_0-logloss:0.55169\n",
      "[40]\tvalidation_0-logloss:0.55175\n",
      "[41]\tvalidation_0-logloss:0.55217\n",
      "[42]\tvalidation_0-logloss:0.55254\n",
      "[43]\tvalidation_0-logloss:0.55294\n",
      "[44]\tvalidation_0-logloss:0.55362\n",
      "[45]\tvalidation_0-logloss:0.55375\n",
      "[46]\tvalidation_0-logloss:0.55411\n",
      "[47]\tvalidation_0-logloss:0.55410\n",
      "[48]\tvalidation_0-logloss:0.55441\n",
      "[49]\tvalidation_0-logloss:0.55448\n",
      "[50]\tvalidation_0-logloss:0.55526\n",
      "[51]\tvalidation_0-logloss:0.55586\n",
      "[52]\tvalidation_0-logloss:0.55605\n",
      "[53]\tvalidation_0-logloss:0.55647\n",
      "[54]\tvalidation_0-logloss:0.55659\n",
      "[55]\tvalidation_0-logloss:0.55663\n",
      "[56]\tvalidation_0-logloss:0.55715\n",
      "[57]\tvalidation_0-logloss:0.55764\n",
      "[58]\tvalidation_0-logloss:0.55772\n",
      "[59]\tvalidation_0-logloss:0.55835\n",
      "[60]\tvalidation_0-logloss:0.55845\n",
      "[61]\tvalidation_0-logloss:0.55861\n",
      "[62]\tvalidation_0-logloss:0.55873\n",
      "[63]\tvalidation_0-logloss:0.55905\n",
      "[64]\tvalidation_0-logloss:0.55968\n",
      "[65]\tvalidation_0-logloss:0.56047\n",
      "[66]\tvalidation_0-logloss:0.56096\n",
      "[67]\tvalidation_0-logloss:0.56164\n",
      "[68]\tvalidation_0-logloss:0.56203\n",
      "[69]\tvalidation_0-logloss:0.56223\n",
      "[70]\tvalidation_0-logloss:0.56262\n",
      "[71]\tvalidation_0-logloss:0.56274\n",
      "[72]\tvalidation_0-logloss:0.56287\n",
      "[73]\tvalidation_0-logloss:0.56289\n",
      "[74]\tvalidation_0-logloss:0.56309\n",
      "[75]\tvalidation_0-logloss:0.56361\n",
      "[76]\tvalidation_0-logloss:0.56367\n",
      "[77]\tvalidation_0-logloss:0.56372\n",
      "[78]\tvalidation_0-logloss:0.56379\n",
      "[79]\tvalidation_0-logloss:0.56446\n",
      "[80]\tvalidation_0-logloss:0.56453\n",
      "[81]\tvalidation_0-logloss:0.56464\n",
      "[82]\tvalidation_0-logloss:0.56487\n",
      "[83]\tvalidation_0-logloss:0.56530\n",
      "[84]\tvalidation_0-logloss:0.56542\n",
      "[85]\tvalidation_0-logloss:0.56549\n",
      "[86]\tvalidation_0-logloss:0.56606\n",
      "[87]\tvalidation_0-logloss:0.56657\n",
      "[88]\tvalidation_0-logloss:0.56686\n",
      "[89]\tvalidation_0-logloss:0.56741\n",
      "[90]\tvalidation_0-logloss:0.56755\n",
      "[91]\tvalidation_0-logloss:0.56776\n",
      "[92]\tvalidation_0-logloss:0.56808\n",
      "[93]\tvalidation_0-logloss:0.56859\n",
      "[94]\tvalidation_0-logloss:0.56887\n",
      "[95]\tvalidation_0-logloss:0.56957\n",
      "[96]\tvalidation_0-logloss:0.56972\n",
      "[97]\tvalidation_0-logloss:0.57022\n",
      "[98]\tvalidation_0-logloss:0.57051\n",
      "[99]\tvalidation_0-logloss:0.57126\n",
      "[100]\tvalidation_0-logloss:0.57150\n",
      "[101]\tvalidation_0-logloss:0.57182\n",
      "[102]\tvalidation_0-logloss:0.57213\n",
      "[103]\tvalidation_0-logloss:0.57228\n",
      "[104]\tvalidation_0-logloss:0.57231\n",
      "[105]\tvalidation_0-logloss:0.57312\n",
      "[106]\tvalidation_0-logloss:0.57337\n",
      "[107]\tvalidation_0-logloss:0.57362\n",
      "[108]\tvalidation_0-logloss:0.57390\n",
      "[109]\tvalidation_0-logloss:0.57403\n",
      "[110]\tvalidation_0-logloss:0.57424\n",
      "[111]\tvalidation_0-logloss:0.57426\n",
      "[112]\tvalidation_0-logloss:0.57428\n",
      "[113]\tvalidation_0-logloss:0.57432\n",
      "[114]\tvalidation_0-logloss:0.57460\n",
      "[115]\tvalidation_0-logloss:0.57471\n",
      "[116]\tvalidation_0-logloss:0.57483\n",
      "[117]\tvalidation_0-logloss:0.57509\n",
      "[118]\tvalidation_0-logloss:0.57522\n",
      "[119]\tvalidation_0-logloss:0.57552\n",
      "[120]\tvalidation_0-logloss:0.57560\n",
      "[121]\tvalidation_0-logloss:0.57578\n",
      "[122]\tvalidation_0-logloss:0.57588\n",
      "[123]\tvalidation_0-logloss:0.57670\n",
      "[124]\tvalidation_0-logloss:0.57692\n",
      "[125]\tvalidation_0-logloss:0.57714\n",
      "[126]\tvalidation_0-logloss:0.57738\n",
      "[127]\tvalidation_0-logloss:0.57768\n",
      "[128]\tvalidation_0-logloss:0.57778\n",
      "[129]\tvalidation_0-logloss:0.57792\n",
      "[130]\tvalidation_0-logloss:0.57861\n",
      "[131]\tvalidation_0-logloss:0.57870\n",
      "[132]\tvalidation_0-logloss:0.57871\n",
      "[133]\tvalidation_0-logloss:0.57891\n",
      "[134]\tvalidation_0-logloss:0.57901\n",
      "[135]\tvalidation_0-logloss:0.57912\n",
      "[136]\tvalidation_0-logloss:0.57920\n",
      "[137]\tvalidation_0-logloss:0.57942\n",
      "[138]\tvalidation_0-logloss:0.57956\n",
      "[139]\tvalidation_0-logloss:0.57957\n",
      "[140]\tvalidation_0-logloss:0.57988\n",
      "[141]\tvalidation_0-logloss:0.57989\n",
      "[142]\tvalidation_0-logloss:0.57999\n",
      "[143]\tvalidation_0-logloss:0.58022\n",
      "[144]\tvalidation_0-logloss:0.58032\n",
      "[145]\tvalidation_0-logloss:0.58041\n",
      "[146]\tvalidation_0-logloss:0.58073\n",
      "[147]\tvalidation_0-logloss:0.58104\n",
      "[148]\tvalidation_0-logloss:0.58104\n",
      "[149]\tvalidation_0-logloss:0.58120\n",
      "[150]\tvalidation_0-logloss:0.58146\n",
      "[151]\tvalidation_0-logloss:0.58149\n",
      "[152]\tvalidation_0-logloss:0.58151\n",
      "[153]\tvalidation_0-logloss:0.58152\n",
      "[154]\tvalidation_0-logloss:0.58167\n",
      "[155]\tvalidation_0-logloss:0.58219\n",
      "[156]\tvalidation_0-logloss:0.58235\n",
      "[157]\tvalidation_0-logloss:0.58253\n",
      "[158]\tvalidation_0-logloss:0.58262\n",
      "[159]\tvalidation_0-logloss:0.58313\n",
      "[160]\tvalidation_0-logloss:0.58386\n",
      "[161]\tvalidation_0-logloss:0.58452\n",
      "[162]\tvalidation_0-logloss:0.58457\n",
      "[163]\tvalidation_0-logloss:0.58471\n",
      "[164]\tvalidation_0-logloss:0.58544\n",
      "[165]\tvalidation_0-logloss:0.58557\n",
      "[166]\tvalidation_0-logloss:0.58608\n",
      "[167]\tvalidation_0-logloss:0.58618\n",
      "[168]\tvalidation_0-logloss:0.58638\n",
      "[169]\tvalidation_0-logloss:0.58640\n",
      "[170]\tvalidation_0-logloss:0.58657\n",
      "[171]\tvalidation_0-logloss:0.58661\n",
      "[172]\tvalidation_0-logloss:0.58670\n",
      "[173]\tvalidation_0-logloss:0.58682\n",
      "[174]\tvalidation_0-logloss:0.58690\n",
      "[175]\tvalidation_0-logloss:0.58708\n",
      "[176]\tvalidation_0-logloss:0.58704\n",
      "[177]\tvalidation_0-logloss:0.58704\n",
      "[178]\tvalidation_0-logloss:0.58710\n",
      "[179]\tvalidation_0-logloss:0.58718\n",
      "[180]\tvalidation_0-logloss:0.58759\n",
      "[181]\tvalidation_0-logloss:0.58772\n",
      "[182]\tvalidation_0-logloss:0.58773\n",
      "[183]\tvalidation_0-logloss:0.58795\n",
      "[184]\tvalidation_0-logloss:0.58794\n",
      "[185]\tvalidation_0-logloss:0.58794\n",
      "[186]\tvalidation_0-logloss:0.58798\n",
      "[187]\tvalidation_0-logloss:0.58799\n",
      "[188]\tvalidation_0-logloss:0.58803\n",
      "[189]\tvalidation_0-logloss:0.58811\n",
      "[190]\tvalidation_0-logloss:0.58812\n",
      "[191]\tvalidation_0-logloss:0.58816\n",
      "[192]\tvalidation_0-logloss:0.58821\n",
      "[193]\tvalidation_0-logloss:0.58828\n",
      "[194]\tvalidation_0-logloss:0.58826\n",
      "[195]\tvalidation_0-logloss:0.58827\n",
      "[196]\tvalidation_0-logloss:0.58832\n",
      "[197]\tvalidation_0-logloss:0.58843\n",
      "[198]\tvalidation_0-logloss:0.58841\n",
      "[199]\tvalidation_0-logloss:0.58856\n",
      "[200]\tvalidation_0-logloss:0.58866\n",
      "[201]\tvalidation_0-logloss:0.58902\n",
      "[202]\tvalidation_0-logloss:0.58928\n",
      "[203]\tvalidation_0-logloss:0.58971\n",
      "[204]\tvalidation_0-logloss:0.58981\n",
      "[205]\tvalidation_0-logloss:0.58987\n",
      "[206]\tvalidation_0-logloss:0.58999\n",
      "[207]\tvalidation_0-logloss:0.59005\n",
      "[208]\tvalidation_0-logloss:0.59012\n",
      "[209]\tvalidation_0-logloss:0.59012\n",
      "[210]\tvalidation_0-logloss:0.59013\n",
      "[211]\tvalidation_0-logloss:0.59027\n",
      "[212]\tvalidation_0-logloss:0.59026\n",
      "[213]\tvalidation_0-logloss:0.59031\n",
      "[214]\tvalidation_0-logloss:0.59036\n",
      "[215]\tvalidation_0-logloss:0.59037\n",
      "[216]\tvalidation_0-logloss:0.59043\n",
      "[217]\tvalidation_0-logloss:0.59049\n",
      "[218]\tvalidation_0-logloss:0.59052\n",
      "[219]\tvalidation_0-logloss:0.59074\n",
      "[220]\tvalidation_0-logloss:0.59099\n",
      "[221]\tvalidation_0-logloss:0.59100\n",
      "[222]\tvalidation_0-logloss:0.59115\n",
      "[223]\tvalidation_0-logloss:0.59122\n",
      "[224]\tvalidation_0-logloss:0.59138\n",
      "[225]\tvalidation_0-logloss:0.59144\n",
      "[226]\tvalidation_0-logloss:0.59147\n",
      "[227]\tvalidation_0-logloss:0.59156\n",
      "[228]\tvalidation_0-logloss:0.59174\n",
      "[229]\tvalidation_0-logloss:0.59177\n",
      "[230]\tvalidation_0-logloss:0.59178\n",
      "[231]\tvalidation_0-logloss:0.59186\n",
      "[232]\tvalidation_0-logloss:0.59206\n",
      "[233]\tvalidation_0-logloss:0.59202\n",
      "[234]\tvalidation_0-logloss:0.59204\n",
      "[235]\tvalidation_0-logloss:0.59221\n",
      "[236]\tvalidation_0-logloss:0.59228\n",
      "[237]\tvalidation_0-logloss:0.59240\n",
      "[238]\tvalidation_0-logloss:0.59237\n",
      "[239]\tvalidation_0-logloss:0.59261\n",
      "[240]\tvalidation_0-logloss:0.59285\n",
      "[241]\tvalidation_0-logloss:0.59286\n",
      "[242]\tvalidation_0-logloss:0.59311\n",
      "[243]\tvalidation_0-logloss:0.59315\n",
      "[244]\tvalidation_0-logloss:0.59326\n",
      "[245]\tvalidation_0-logloss:0.59341\n",
      "[246]\tvalidation_0-logloss:0.59348\n",
      "[247]\tvalidation_0-logloss:0.59364\n",
      "[248]\tvalidation_0-logloss:0.59371\n",
      "[249]\tvalidation_0-logloss:0.59387\n",
      "[250]\tvalidation_0-logloss:0.59382\n",
      "[251]\tvalidation_0-logloss:0.59400\n",
      "[252]\tvalidation_0-logloss:0.59421\n",
      "[253]\tvalidation_0-logloss:0.59432\n",
      "[254]\tvalidation_0-logloss:0.59443\n",
      "[255]\tvalidation_0-logloss:0.59451\n",
      "[256]\tvalidation_0-logloss:0.59464\n",
      "[257]\tvalidation_0-logloss:0.59479\n",
      "[258]\tvalidation_0-logloss:0.59485\n",
      "[259]\tvalidation_0-logloss:0.59518\n",
      "[260]\tvalidation_0-logloss:0.59543\n",
      "[261]\tvalidation_0-logloss:0.59556\n",
      "[262]\tvalidation_0-logloss:0.59565\n",
      "[263]\tvalidation_0-logloss:0.59568\n",
      "[264]\tvalidation_0-logloss:0.59588\n",
      "[265]\tvalidation_0-logloss:0.59637\n",
      "[266]\tvalidation_0-logloss:0.59651\n",
      "[267]\tvalidation_0-logloss:0.59655\n",
      "[268]\tvalidation_0-logloss:0.59677\n",
      "[269]\tvalidation_0-logloss:0.59688\n",
      "[270]\tvalidation_0-logloss:0.59713\n",
      "[271]\tvalidation_0-logloss:0.59727\n",
      "[272]\tvalidation_0-logloss:0.59737\n",
      "[273]\tvalidation_0-logloss:0.59763\n",
      "[274]\tvalidation_0-logloss:0.59774\n",
      "[275]\tvalidation_0-logloss:0.59778\n",
      "[276]\tvalidation_0-logloss:0.59787\n",
      "[277]\tvalidation_0-logloss:0.59822\n",
      "[278]\tvalidation_0-logloss:0.59829\n",
      "[279]\tvalidation_0-logloss:0.59836\n",
      "[280]\tvalidation_0-logloss:0.59874\n",
      "[281]\tvalidation_0-logloss:0.59876\n",
      "[282]\tvalidation_0-logloss:0.59876\n",
      "[283]\tvalidation_0-logloss:0.59885\n",
      "[284]\tvalidation_0-logloss:0.59888\n",
      "[285]\tvalidation_0-logloss:0.59946\n",
      "[286]\tvalidation_0-logloss:0.59966\n",
      "[287]\tvalidation_0-logloss:0.59981\n",
      "[288]\tvalidation_0-logloss:0.60007\n",
      "[289]\tvalidation_0-logloss:0.60021\n",
      "[290]\tvalidation_0-logloss:0.60034\n",
      "[291]\tvalidation_0-logloss:0.60045\n",
      "[292]\tvalidation_0-logloss:0.60044\n",
      "[293]\tvalidation_0-logloss:0.60056\n",
      "[294]\tvalidation_0-logloss:0.60065\n",
      "[295]\tvalidation_0-logloss:0.60078\n",
      "[296]\tvalidation_0-logloss:0.60116\n",
      "[297]\tvalidation_0-logloss:0.60120\n",
      "[298]\tvalidation_0-logloss:0.60131\n",
      "[299]\tvalidation_0-logloss:0.60148\n",
      "[300]\tvalidation_0-logloss:0.60155\n",
      "[301]\tvalidation_0-logloss:0.60164\n",
      "[302]\tvalidation_0-logloss:0.60176\n",
      "[303]\tvalidation_0-logloss:0.60186\n",
      "[304]\tvalidation_0-logloss:0.60199\n",
      "[305]\tvalidation_0-logloss:0.60188\n",
      "[306]\tvalidation_0-logloss:0.60185\n",
      "[307]\tvalidation_0-logloss:0.60189\n",
      "[308]\tvalidation_0-logloss:0.60199\n",
      "[309]\tvalidation_0-logloss:0.60203\n",
      "[310]\tvalidation_0-logloss:0.60206\n",
      "[311]\tvalidation_0-logloss:0.60208\n",
      "[312]\tvalidation_0-logloss:0.60212\n",
      "[313]\tvalidation_0-logloss:0.60213\n",
      "[314]\tvalidation_0-logloss:0.60223\n",
      "[315]\tvalidation_0-logloss:0.60226\n",
      "[316]\tvalidation_0-logloss:0.60246\n",
      "[317]\tvalidation_0-logloss:0.60265\n",
      "[318]\tvalidation_0-logloss:0.60279\n",
      "[319]\tvalidation_0-logloss:0.60286\n",
      "[320]\tvalidation_0-logloss:0.60290\n",
      "[321]\tvalidation_0-logloss:0.60294\n",
      "[322]\tvalidation_0-logloss:0.60292\n",
      "[323]\tvalidation_0-logloss:0.60296\n",
      "[324]\tvalidation_0-logloss:0.60317\n",
      "[325]\tvalidation_0-logloss:0.60331\n",
      "[326]\tvalidation_0-logloss:0.60351\n",
      "[327]\tvalidation_0-logloss:0.60395\n",
      "[328]\tvalidation_0-logloss:0.60416\n",
      "[329]\tvalidation_0-logloss:0.60434\n",
      "[330]\tvalidation_0-logloss:0.60454\n",
      "[331]\tvalidation_0-logloss:0.60484\n",
      "[332]\tvalidation_0-logloss:0.60499\n",
      "[333]\tvalidation_0-logloss:0.60567\n",
      "[334]\tvalidation_0-logloss:0.60584\n",
      "[335]\tvalidation_0-logloss:0.60603\n",
      "[336]\tvalidation_0-logloss:0.60608\n",
      "[337]\tvalidation_0-logloss:0.60627\n",
      "[338]\tvalidation_0-logloss:0.60651\n",
      "[339]\tvalidation_0-logloss:0.60648\n",
      "[340]\tvalidation_0-logloss:0.60645\n",
      "[341]\tvalidation_0-logloss:0.60651\n",
      "[342]\tvalidation_0-logloss:0.60657\n",
      "[343]\tvalidation_0-logloss:0.60655\n",
      "[344]\tvalidation_0-logloss:0.60659\n",
      "[345]\tvalidation_0-logloss:0.60668\n",
      "[346]\tvalidation_0-logloss:0.60683\n",
      "[347]\tvalidation_0-logloss:0.60693\n",
      "[348]\tvalidation_0-logloss:0.60721\n",
      "[349]\tvalidation_0-logloss:0.60736\n",
      "[350]\tvalidation_0-logloss:0.60749\n",
      "[351]\tvalidation_0-logloss:0.60751\n",
      "[352]\tvalidation_0-logloss:0.60751\n",
      "[353]\tvalidation_0-logloss:0.60768\n",
      "[354]\tvalidation_0-logloss:0.60783\n",
      "[355]\tvalidation_0-logloss:0.60794\n",
      "[356]\tvalidation_0-logloss:0.60792\n",
      "[357]\tvalidation_0-logloss:0.60798\n",
      "[358]\tvalidation_0-logloss:0.60809\n",
      "[359]\tvalidation_0-logloss:0.60832\n",
      "[360]\tvalidation_0-logloss:0.60840\n",
      "[361]\tvalidation_0-logloss:0.60863\n",
      "[362]\tvalidation_0-logloss:0.60865\n",
      "[363]\tvalidation_0-logloss:0.60880\n",
      "[364]\tvalidation_0-logloss:0.60895\n",
      "[365]\tvalidation_0-logloss:0.60900\n",
      "[366]\tvalidation_0-logloss:0.60907\n",
      "[367]\tvalidation_0-logloss:0.60914\n",
      "[368]\tvalidation_0-logloss:0.60920\n",
      "[369]\tvalidation_0-logloss:0.60940\n",
      "[370]\tvalidation_0-logloss:0.60940\n",
      "[371]\tvalidation_0-logloss:0.60950\n",
      "[372]\tvalidation_0-logloss:0.60957\n",
      "[373]\tvalidation_0-logloss:0.60966\n",
      "[374]\tvalidation_0-logloss:0.60980\n",
      "[375]\tvalidation_0-logloss:0.61001\n",
      "[376]\tvalidation_0-logloss:0.61008\n",
      "[377]\tvalidation_0-logloss:0.61022\n",
      "[378]\tvalidation_0-logloss:0.61032\n",
      "[379]\tvalidation_0-logloss:0.61039\n",
      "[380]\tvalidation_0-logloss:0.61048\n",
      "[381]\tvalidation_0-logloss:0.61057\n",
      "[382]\tvalidation_0-logloss:0.61095\n",
      "[383]\tvalidation_0-logloss:0.61117\n",
      "[384]\tvalidation_0-logloss:0.61120\n",
      "[385]\tvalidation_0-logloss:0.61131\n",
      "[386]\tvalidation_0-logloss:0.61131\n",
      "[387]\tvalidation_0-logloss:0.61168\n",
      "[388]\tvalidation_0-logloss:0.61185\n",
      "[389]\tvalidation_0-logloss:0.61191\n",
      "[390]\tvalidation_0-logloss:0.61195\n",
      "[391]\tvalidation_0-logloss:0.61202\n",
      "[392]\tvalidation_0-logloss:0.61212\n",
      "[393]\tvalidation_0-logloss:0.61216\n",
      "[394]\tvalidation_0-logloss:0.61219\n",
      "[395]\tvalidation_0-logloss:0.61221\n",
      "[396]\tvalidation_0-logloss:0.61228\n",
      "[397]\tvalidation_0-logloss:0.61235\n",
      "[398]\tvalidation_0-logloss:0.61284\n",
      "[399]\tvalidation_0-logloss:0.61305\n",
      "[400]\tvalidation_0-logloss:0.61325\n",
      "[401]\tvalidation_0-logloss:0.61331\n",
      "[402]\tvalidation_0-logloss:0.61332\n",
      "[403]\tvalidation_0-logloss:0.61328\n",
      "[404]\tvalidation_0-logloss:0.61345\n",
      "[405]\tvalidation_0-logloss:0.61361\n",
      "[406]\tvalidation_0-logloss:0.61381\n",
      "[407]\tvalidation_0-logloss:0.61394\n",
      "[408]\tvalidation_0-logloss:0.61423\n",
      "[409]\tvalidation_0-logloss:0.61429\n",
      "[410]\tvalidation_0-logloss:0.61437\n",
      "[411]\tvalidation_0-logloss:0.61452\n",
      "[412]\tvalidation_0-logloss:0.61452\n",
      "[413]\tvalidation_0-logloss:0.61464\n",
      "[414]\tvalidation_0-logloss:0.61474\n",
      "[415]\tvalidation_0-logloss:0.61473\n",
      "[416]\tvalidation_0-logloss:0.61463\n",
      "[417]\tvalidation_0-logloss:0.61476\n",
      "[418]\tvalidation_0-logloss:0.61493\n",
      "[419]\tvalidation_0-logloss:0.61504\n",
      "[420]\tvalidation_0-logloss:0.61507\n",
      "[421]\tvalidation_0-logloss:0.61510\n",
      "[422]\tvalidation_0-logloss:0.61513\n",
      "[423]\tvalidation_0-logloss:0.61518\n",
      "[424]\tvalidation_0-logloss:0.61521\n",
      "[425]\tvalidation_0-logloss:0.61525\n",
      "[426]\tvalidation_0-logloss:0.61531\n",
      "[427]\tvalidation_0-logloss:0.61551\n",
      "[428]\tvalidation_0-logloss:0.61597\n",
      "[429]\tvalidation_0-logloss:0.61606\n",
      "[430]\tvalidation_0-logloss:0.61628\n",
      "[431]\tvalidation_0-logloss:0.61645\n",
      "[432]\tvalidation_0-logloss:0.61652\n",
      "[433]\tvalidation_0-logloss:0.61660\n",
      "[434]\tvalidation_0-logloss:0.61661\n",
      "[435]\tvalidation_0-logloss:0.61663\n",
      "[436]\tvalidation_0-logloss:0.61665\n",
      "[437]\tvalidation_0-logloss:0.61668\n",
      "[438]\tvalidation_0-logloss:0.61668\n",
      "[439]\tvalidation_0-logloss:0.61672\n",
      "[440]\tvalidation_0-logloss:0.61675\n",
      "[441]\tvalidation_0-logloss:0.61680\n",
      "[442]\tvalidation_0-logloss:0.61680\n",
      "[443]\tvalidation_0-logloss:0.61684\n",
      "[444]\tvalidation_0-logloss:0.61688\n",
      "[445]\tvalidation_0-logloss:0.61700\n",
      "[446]\tvalidation_0-logloss:0.61704\n",
      "[447]\tvalidation_0-logloss:0.61708\n",
      "[448]\tvalidation_0-logloss:0.61717\n",
      "[449]\tvalidation_0-logloss:0.61767\n",
      "[450]\tvalidation_0-logloss:0.61779\n",
      "[451]\tvalidation_0-logloss:0.61804\n",
      "[452]\tvalidation_0-logloss:0.61812\n",
      "[453]\tvalidation_0-logloss:0.61815\n",
      "[454]\tvalidation_0-logloss:0.61836\n",
      "[455]\tvalidation_0-logloss:0.61863\n",
      "[456]\tvalidation_0-logloss:0.61869\n",
      "[457]\tvalidation_0-logloss:0.61893\n",
      "[458]\tvalidation_0-logloss:0.61897\n",
      "[459]\tvalidation_0-logloss:0.61907\n",
      "[460]\tvalidation_0-logloss:0.61917\n",
      "[461]\tvalidation_0-logloss:0.61936\n",
      "[462]\tvalidation_0-logloss:0.61938\n",
      "[463]\tvalidation_0-logloss:0.61948\n",
      "[464]\tvalidation_0-logloss:0.61962\n",
      "[465]\tvalidation_0-logloss:0.61963\n",
      "[466]\tvalidation_0-logloss:0.61985\n",
      "[467]\tvalidation_0-logloss:0.62008\n",
      "[468]\tvalidation_0-logloss:0.62004\n",
      "[469]\tvalidation_0-logloss:0.62016\n",
      "[470]\tvalidation_0-logloss:0.62037\n",
      "[471]\tvalidation_0-logloss:0.62032\n",
      "[472]\tvalidation_0-logloss:0.62029\n",
      "[473]\tvalidation_0-logloss:0.62056\n",
      "[474]\tvalidation_0-logloss:0.62064\n",
      "[475]\tvalidation_0-logloss:0.62072\n",
      "[476]\tvalidation_0-logloss:0.62066\n",
      "[477]\tvalidation_0-logloss:0.62076\n",
      "[478]\tvalidation_0-logloss:0.62087\n",
      "[479]\tvalidation_0-logloss:0.62098\n",
      "[480]\tvalidation_0-logloss:0.62102\n",
      "[481]\tvalidation_0-logloss:0.62113\n",
      "[482]\tvalidation_0-logloss:0.62159\n",
      "[483]\tvalidation_0-logloss:0.62168\n",
      "[484]\tvalidation_0-logloss:0.62208\n",
      "[485]\tvalidation_0-logloss:0.62213\n",
      "[486]\tvalidation_0-logloss:0.62218\n",
      "[487]\tvalidation_0-logloss:0.62254\n",
      "[488]\tvalidation_0-logloss:0.62262\n",
      "[489]\tvalidation_0-logloss:0.62270\n",
      "[490]\tvalidation_0-logloss:0.62290\n",
      "[491]\tvalidation_0-logloss:0.62316\n",
      "[492]\tvalidation_0-logloss:0.62326\n",
      "[493]\tvalidation_0-logloss:0.62348\n",
      "[494]\tvalidation_0-logloss:0.62348\n",
      "[495]\tvalidation_0-logloss:0.62351\n",
      "[496]\tvalidation_0-logloss:0.62351\n",
      "[497]\tvalidation_0-logloss:0.62364\n",
      "[498]\tvalidation_0-logloss:0.62392\n",
      "[499]\tvalidation_0-logloss:0.62400\n"
     ]
    },
    {
     "data": {
      "text/plain": [
       "XGBClassifier(base_score=0.5, booster='gbtree', callbacks=None,\n",
       "              colsample_bylevel=1, colsample_bynode=1, colsample_bytree=1,\n",
       "              early_stopping_rounds=None, enable_categorical=False,\n",
       "              eval_metric=None, gamma=0, gpu_id=-1, grow_policy='depthwise',\n",
       "              importance_type=None, interaction_constraints='',\n",
       "              learning_rate=0.1, max_bin=256, max_cat_to_onehot=4,\n",
       "              max_delta_step=0, max_depth=6, max_leaves=0, min_child_weight=1,\n",
       "              missing=nan, monotone_constraints='()', n_estimators=500,\n",
       "              n_jobs=0, num_parallel_tree=1, predictor='auto', random_state=0,\n",
       "              reg_alpha=0, reg_lambda=1, ...)"
      ]
     },
     "execution_count": 16,
     "metadata": {},
     "output_type": "execute_result"
    }
   ],
   "source": [
    "xgb_model = XGBClassifier(n_estimators = 500, learning_rate = 0.1,verbosity = 1, random_state = 0)\n",
    "xgb_model.fit(x_train,y_train, eval_set = [(x_cv,y_cv)])"
   ]
  },
  {
   "cell_type": "code",
   "execution_count": 17,
   "id": "1c001cd5",
   "metadata": {
    "execution": {
     "iopub.execute_input": "2023-03-14T09:56:03.402813Z",
     "iopub.status.busy": "2023-03-14T09:56:03.401817Z",
     "iopub.status.idle": "2023-03-14T09:56:03.407661Z",
     "shell.execute_reply": "2023-03-14T09:56:03.406836Z"
    },
    "papermill": {
     "duration": 0.048304,
     "end_time": "2023-03-14T09:56:03.409798",
     "exception": false,
     "start_time": "2023-03-14T09:56:03.361494",
     "status": "completed"
    },
    "tags": []
   },
   "outputs": [
    {
     "data": {
      "text/plain": [
       "499"
      ]
     },
     "execution_count": 17,
     "metadata": {},
     "output_type": "execute_result"
    }
   ],
   "source": [
    "xgb_model.best_iteration"
   ]
  },
  {
   "cell_type": "code",
   "execution_count": 18,
   "id": "9d1a09b6",
   "metadata": {
    "execution": {
     "iopub.execute_input": "2023-03-14T09:56:03.492643Z",
     "iopub.status.busy": "2023-03-14T09:56:03.492207Z",
     "iopub.status.idle": "2023-03-14T09:56:03.513416Z",
     "shell.execute_reply": "2023-03-14T09:56:03.512215Z"
    },
    "papermill": {
     "duration": 0.064173,
     "end_time": "2023-03-14T09:56:03.516062",
     "exception": false,
     "start_time": "2023-03-14T09:56:03.451889",
     "status": "completed"
    },
    "tags": []
   },
   "outputs": [
    {
     "data": {
      "text/plain": [
       "0.7941345600920069"
      ]
     },
     "execution_count": 18,
     "metadata": {},
     "output_type": "execute_result"
    }
   ],
   "source": [
    "accuracy_score(xgb_model.predict(x_train),y_train)"
   ]
  },
  {
   "cell_type": "code",
   "execution_count": null,
   "id": "87d3d9c3",
   "metadata": {
    "papermill": {
     "duration": 0.039087,
     "end_time": "2023-03-14T09:56:03.594812",
     "exception": false,
     "start_time": "2023-03-14T09:56:03.555725",
     "status": "completed"
    },
    "tags": []
   },
   "outputs": [],
   "source": []
  }
 ],
 "metadata": {
  "kernelspec": {
   "display_name": "Python 3",
   "language": "python",
   "name": "python3"
  },
  "language_info": {
   "codemirror_mode": {
    "name": "ipython",
    "version": 3
   },
   "file_extension": ".py",
   "mimetype": "text/x-python",
   "name": "python",
   "nbconvert_exporter": "python",
   "pygments_lexer": "ipython3",
   "version": "3.7.12"
  },
  "papermill": {
   "default_parameters": {},
   "duration": 18.617405,
   "end_time": "2023-03-14T09:56:04.358118",
   "environment_variables": {},
   "exception": null,
   "input_path": "__notebook__.ipynb",
   "output_path": "__notebook__.ipynb",
   "parameters": {},
   "start_time": "2023-03-14T09:55:45.740713",
   "version": "2.4.0"
  }
 },
 "nbformat": 4,
 "nbformat_minor": 5
}
